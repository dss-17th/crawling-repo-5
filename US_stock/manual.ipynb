{
 "cells": [
  {
   "cell_type": "code",
   "execution_count": 1,
   "metadata": {},
   "outputs": [],
   "source": [
    "import os, sys"
   ]
  },
  {
   "cell_type": "markdown",
   "metadata": {},
   "source": [
    "### install library"
   ]
  },
  {
   "cell_type": "code",
   "execution_count": null,
   "metadata": {},
   "outputs": [],
   "source": [
    "!pip install -U finance-datareader"
   ]
  },
  {
   "cell_type": "code",
   "execution_count": null,
   "metadata": {},
   "outputs": [],
   "source": [
    "!pip install beautifulsoup4 "
   ]
  },
  {
   "cell_type": "code",
   "execution_count": null,
   "metadata": {},
   "outputs": [],
   "source": [
    "!pip install flask"
   ]
  },
  {
   "cell_type": "code",
   "execution_count": null,
   "metadata": {},
   "outputs": [],
   "source": [
    "!pip install SQLAlchemy"
   ]
  },
  {
   "cell_type": "code",
   "execution_count": null,
   "metadata": {},
   "outputs": [],
   "source": [
    "!pip install PyMySQL"
   ]
  },
  {
   "cell_type": "code",
   "execution_count": null,
   "metadata": {},
   "outputs": [],
   "source": [
    "!sudo apt-get install python3 python-dev python3-dev \\\n",
    "build-essential libssl-dev libffi-dev \\\n",
    "libxml2-dev libxslt1-dev zlib1g-dev \\\n",
    "python-pip"
   ]
  },
  {
   "cell_type": "code",
   "execution_count": null,
   "metadata": {},
   "outputs": [],
   "source": [
    "!sudo pip3 install mysqlclient"
   ]
  },
  {
   "cell_type": "markdown",
   "metadata": {},
   "source": [
    "### mysql 정보 입력\n",
    "  - 우선 mysql 서버, db 생성"
   ]
  },
  {
   "cell_type": "code",
   "execution_count": 2,
   "metadata": {},
   "outputs": [
    {
     "name": "stdout",
     "output_type": "stream",
     "text": [
      "host(IP) : 2134.123.213.213\n",
      "user name : hello\n",
      "pass word : jupyer\n",
      "db name : notebook\n"
     ]
    }
   ],
   "source": [
    "host = input(\"host(IP) : \")\n",
    "user = input(\"user name : \")\n",
    "pw = input(\"pass word : \")\n",
    "db = input(\"db name : \")"
   ]
  },
  {
   "cell_type": "code",
   "execution_count": 3,
   "metadata": {},
   "outputs": [],
   "source": [
    "with open('Dev/user.py', 'w') as f:\n",
    "    f.write(f\"path =  '{os.path.abspath('Dev')}'\\n\")\n",
    "    f.write(f\"host =  '{host}'\\n\")\n",
    "    f.write(f\"user =  '{user}'\\n\")\n",
    "    f.write(f\"pw =  '{pw}'\\n\")\n",
    "    f.write(f\"db =  '{db}'\")\n",
    "with open('Ops/datas/user.py', 'w') as f:\n",
    "    os.chdir(\"Ops\")\n",
    "    f.write(f\"path =  '{os.path.abspath('datas')}'\\n\")\n",
    "    f.write(f\"host =  '{host}'\\n\")\n",
    "    f.write(f\"user =  '{user}'\\n\")\n",
    "    f.write(f\"pw =  '{pw}'\\n\")\n",
    "    f.write(f\"db =  '{db}'\")\n",
    "with open('app/modules/user.py', 'w') as f:\n",
    "    f.write(f\"host =  '{host}'\\n\")\n",
    "    f.write(f\"user =  '{user}'\\n\")\n",
    "    f.write(f\"pw =  '{pw}'\\n\")\n",
    "    f.write(f\"db =  '{db}'\")    \n",
    "os.chdir(\"..\")"
   ]
  },
  {
   "cell_type": "code",
   "execution_count": 4,
   "metadata": {},
   "outputs": [],
   "source": []
  },
  {
   "cell_type": "markdown",
   "metadata": {},
   "source": [
    "### 초기 데이터 (과거 데이터 설정)\n",
    "    - 오래 걸릴 수 있음"
   ]
  },
  {
   "cell_type": "code",
   "execution_count": 6,
   "metadata": {},
   "outputs": [],
   "source": [
    "!python Dev/company_starting.py"
   ]
  },
  {
   "cell_type": "code",
   "execution_count": null,
   "metadata": {},
   "outputs": [],
   "source": [
    "!python Dev/daily_starting.py"
   ]
  },
  {
   "cell_type": "code",
   "execution_count": null,
   "metadata": {},
   "outputs": [],
   "source": [
    "!python Dev/starting_module.py"
   ]
  },
  {
   "cell_type": "code",
   "execution_count": null,
   "metadata": {},
   "outputs": [],
   "source": []
  },
  {
   "cell_type": "markdown",
   "metadata": {},
   "source": [
    "### 크론탭 설정"
   ]
  },
  {
   "cell_type": "code",
   "execution_count": null,
   "metadata": {},
   "outputs": [],
   "source": []
  }
 ],
 "metadata": {
  "kernelspec": {
   "display_name": "Python 3",
   "language": "python",
   "name": "python3"
  },
  "language_info": {
   "codemirror_mode": {
    "name": "ipython",
    "version": 3
   },
   "file_extension": ".py",
   "mimetype": "text/x-python",
   "name": "python",
   "nbconvert_exporter": "python",
   "pygments_lexer": "ipython3",
   "version": "3.8.5"
  },
  "toc": {
   "base_numbering": 1,
   "nav_menu": {},
   "number_sections": true,
   "sideBar": true,
   "skip_h1_title": false,
   "title_cell": "Table of Contents",
   "title_sidebar": "Contents",
   "toc_cell": false,
   "toc_position": {},
   "toc_section_display": true,
   "toc_window_display": false
  }
 },
 "nbformat": 4,
 "nbformat_minor": 4
}
