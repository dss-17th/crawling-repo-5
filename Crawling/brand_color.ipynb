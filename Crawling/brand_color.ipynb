{
 "cells": [
  {
   "cell_type": "code",
   "execution_count": 188,
   "metadata": {},
   "outputs": [],
   "source": [
    "#from selenium import webdriver\n",
    "from bs4 import BeautifulSoup\n",
    "from urllib import parse\n",
    "from urllib import request\n",
    "import time\n",
    "import os\n",
    "from io import BytesIO\n",
    "import pandas as pd\n",
    "from PIL import Image\n",
    "import struct\n",
    "import cv2\n",
    "from sklearn.cluster import KMeans\n",
    "clt = KMeans(n_clusters=3)"
   ]
  },
  {
   "cell_type": "code",
   "execution_count": 215,
   "metadata": {},
   "outputs": [],
   "source": [
    "def saturation(color):\n",
    "    return color.max() - color.min()"
   ]
  },
  {
   "cell_type": "code",
   "execution_count": 330,
   "metadata": {},
   "outputs": [],
   "source": [
    "querys = pd.read_csv('datas/symbol.csv')"
   ]
  },
  {
   "cell_type": "code",
   "execution_count": 331,
   "metadata": {},
   "outputs": [
    {
     "data": {
      "text/plain": [
       "array(['MMM', '3M Company'], dtype=object)"
      ]
     },
     "execution_count": 331,
     "metadata": {},
     "output_type": "execute_result"
    }
   ],
   "source": [
    "querys.values[0]"
   ]
  },
  {
   "cell_type": "code",
   "execution_count": 384,
   "metadata": {},
   "outputs": [],
   "source": [
    "brand_colors_pal = pd.DataFrame(columns=['symbol', 'color1', 'color2', 'color3'])\n",
    "for query in querys.values:\n",
    "    time.sleep(0.5)\n",
    "    symbol = query[0]\n",
    "    query = query[1]\n",
    "    enc = parse.quote(query + ' brand color palette')\n",
    "    url = f'https://www.google.com/search?q={enc}&tbm=isch&'\n",
    "    response = requests.get(url)\n",
    "    dom = BeautifulSoup(response.text, \"html.parser\")\n",
    "    items = dom.select(\"img\")\n",
    "    for i in range(len(items)):\n",
    "        try :\n",
    "            link = items[i].get('src')\n",
    "            response = requests.get(link).content\n",
    "            a = np.fromstring(response, dtype = np.uint8)\n",
    "            img = cv2.imdecode(a, cv2.IMREAD_COLOR)                             \n",
    "            img = cv2.cvtColor(img, cv2.COLOR_BGR2RGB)\n",
    "            break\n",
    "        except:\n",
    "            continue\n",
    "    \n",
    "    \n",
    "    brandcolors = []\n",
    "    for i in range(2,6):\n",
    "        res = img[int((img.shape[0])/i)].reshape(-1, 3)\n",
    "        clt_1 = clt.fit(res)\n",
    "        colors = clt_1.cluster_centers_\n",
    "        if np.array(((colors[0] == colors[1]).all(), (colors[0] == colors[2]).all(), (colors[2] == colors[1]).all())).all():\n",
    "            brandcolors.append(colors[0])\n",
    "        elif (colors[0] == colors[1]).all():\n",
    "            brandcolors.append(colors[0])\n",
    "            brandcolors.append(colors[2])\n",
    "        elif (colors[0] == colors[2]).all():\n",
    "            brandcolors.append(colors[0])\n",
    "            brandcolors.append(colors[1])\n",
    "        elif (colors[2] == colors[1]).all():\n",
    "            brandcolors.append(colors[0])\n",
    "            brandcolors.append(colors[1])\n",
    "        else :\n",
    "            brandcolors = colors\n",
    "            break\n",
    "    clt_1 = clt.fit(brandcolors)\n",
    "    brandcolors = clt_1.cluster_centers_\n",
    "    brandcolors = brandcolors.round(0)\n",
    "    for i in range(3):\n",
    "        if (np.array((saturation(brandcolors[i%3]),saturation(brandcolors[(i+1)%3]),saturation(brandcolors[(i+2)%3]))).max() == saturation(brandcolors[i%3])).all():\n",
    "\n",
    "            if brandcolors[i%3].max()==brandcolors[(i+1)%3].max():\n",
    "                if (brandcolors[i%3]==brandcolors[(i+1)%3]).all():\n",
    "                    data_series = pd.Series([symbol, brandcolors[i%3], brandcolors[(i+2)%3], brandcolors[(i+1)%3]],index=brand_colors_pal.columns)\n",
    "                else :\n",
    "                    data_series = pd.Series([symbol, brandcolors[i%3], brandcolors[(i+1)%3], brandcolors[(i+2)%3]],index=brand_colors_pal.columns)\n",
    "\n",
    "            elif brandcolors[i%3].max()==brandcolors[(i+2)%3].max():\n",
    "                if (brandcolors[i%3]==brandcolors[(i+2)%3]).all():\n",
    "                    data_series = pd.Series([symbol, brandcolors[i%3], brandcolors[(i+1)%3], brandcolors[(i+2)%3]],index=brand_colors_pal.columns)\n",
    "                else :\n",
    "                    data_series = pd.Series([symbol, brandcolors[i%3], brandcolors[(i+2)%3], brandcolors[(i+1)%3]],index=brand_colors_pal.columns)\n",
    "            else :\n",
    "                data_series = pd.Series([symbol, brandcolors[i%3], brandcolors[(i+2)%3], brandcolors[(i+1)%3]],index=brand_colors_pal.columns)\n",
    "            \n",
    "            break\n",
    "\n",
    "    brand_colors_pal = brand_colors_pal.append(data_series, ignore_index=True)"
   ]
  },
  {
   "cell_type": "code",
   "execution_count": 396,
   "metadata": {},
   "outputs": [],
   "source": [
    "a = brand_colors_pal.merge(querys,right_on='Symbol',left_on='symbol')"
   ]
  },
  {
   "cell_type": "code",
   "execution_count": 400,
   "metadata": {},
   "outputs": [],
   "source": [
    "brand_colors_pal.to_csv('datas/brand_colors.csv', index=False)"
   ]
  },
  {
   "cell_type": "code",
   "execution_count": 401,
   "metadata": {},
   "outputs": [
    {
     "data": {
      "text/html": [
       "<div>\n",
       "<style scoped>\n",
       "    .dataframe tbody tr th:only-of-type {\n",
       "        vertical-align: middle;\n",
       "    }\n",
       "\n",
       "    .dataframe tbody tr th {\n",
       "        vertical-align: top;\n",
       "    }\n",
       "\n",
       "    .dataframe thead th {\n",
       "        text-align: right;\n",
       "    }\n",
       "</style>\n",
       "<table border=\"1\" class=\"dataframe\">\n",
       "  <thead>\n",
       "    <tr style=\"text-align: right;\">\n",
       "      <th></th>\n",
       "      <th>symbol</th>\n",
       "      <th>color1</th>\n",
       "      <th>color2</th>\n",
       "      <th>color3</th>\n",
       "    </tr>\n",
       "  </thead>\n",
       "  <tbody>\n",
       "    <tr>\n",
       "      <th>0</th>\n",
       "      <td>MMM</td>\n",
       "      <td>[161. 182. 176.]</td>\n",
       "      <td>[250. 251. 253.]</td>\n",
       "      <td>[228. 229. 236.]</td>\n",
       "    </tr>\n",
       "    <tr>\n",
       "      <th>1</th>\n",
       "      <td>ABT</td>\n",
       "      <td>[  0. 149. 218.]</td>\n",
       "      <td>[ 52. 154. 220.]</td>\n",
       "      <td>[251. 253. 254.]</td>\n",
       "    </tr>\n",
       "    <tr>\n",
       "      <th>2</th>\n",
       "      <td>ABBV</td>\n",
       "      <td>[11. 15. 60.]</td>\n",
       "      <td>[254. 254. 254.]</td>\n",
       "      <td>[152. 154. 166.]</td>\n",
       "    </tr>\n",
       "    <tr>\n",
       "      <th>3</th>\n",
       "      <td>ABMD</td>\n",
       "      <td>[  1. 212. 108.]</td>\n",
       "      <td>[  0. 129. 210.]</td>\n",
       "      <td>[115.  61. 194.]</td>\n",
       "    </tr>\n",
       "    <tr>\n",
       "      <th>4</th>\n",
       "      <td>ACN</td>\n",
       "      <td>[255. 255. 255.]</td>\n",
       "      <td>[154. 154. 154.]</td>\n",
       "      <td>[0. 0. 0.]</td>\n",
       "    </tr>\n",
       "    <tr>\n",
       "      <th>...</th>\n",
       "      <td>...</td>\n",
       "      <td>...</td>\n",
       "      <td>...</td>\n",
       "      <td>...</td>\n",
       "    </tr>\n",
       "    <tr>\n",
       "      <th>500</th>\n",
       "      <td>YUM</td>\n",
       "      <td>[237.  29.  38.]</td>\n",
       "      <td>[255. 255. 255.]</td>\n",
       "      <td>[253. 220. 221.]</td>\n",
       "    </tr>\n",
       "    <tr>\n",
       "      <th>501</th>\n",
       "      <td>ZBRA</td>\n",
       "      <td>[ 10. 140. 120.]</td>\n",
       "      <td>[ 90. 194. 177.]</td>\n",
       "      <td>[249. 248. 245.]</td>\n",
       "    </tr>\n",
       "    <tr>\n",
       "      <th>502</th>\n",
       "      <td>ZBH</td>\n",
       "      <td>[ -0. 159. 223.]</td>\n",
       "      <td>[55. 27.  0.]</td>\n",
       "      <td>[51. 51. 51.]</td>\n",
       "    </tr>\n",
       "    <tr>\n",
       "      <th>503</th>\n",
       "      <td>ZION</td>\n",
       "      <td>[84. 83. 74.]</td>\n",
       "      <td>[218. 218. 217.]</td>\n",
       "      <td>[255. 255. 255.]</td>\n",
       "    </tr>\n",
       "    <tr>\n",
       "      <th>504</th>\n",
       "      <td>ZTS</td>\n",
       "      <td>[193. 127.  95.]</td>\n",
       "      <td>[239. 234. 232.]</td>\n",
       "      <td>[254. 254. 254.]</td>\n",
       "    </tr>\n",
       "  </tbody>\n",
       "</table>\n",
       "<p>505 rows × 4 columns</p>\n",
       "</div>"
      ],
      "text/plain": [
       "    symbol            color1            color2            color3\n",
       "0      MMM  [161. 182. 176.]  [250. 251. 253.]  [228. 229. 236.]\n",
       "1      ABT  [  0. 149. 218.]  [ 52. 154. 220.]  [251. 253. 254.]\n",
       "2     ABBV     [11. 15. 60.]  [254. 254. 254.]  [152. 154. 166.]\n",
       "3     ABMD  [  1. 212. 108.]  [  0. 129. 210.]  [115.  61. 194.]\n",
       "4      ACN  [255. 255. 255.]  [154. 154. 154.]        [0. 0. 0.]\n",
       "..     ...               ...               ...               ...\n",
       "500    YUM  [237.  29.  38.]  [255. 255. 255.]  [253. 220. 221.]\n",
       "501   ZBRA  [ 10. 140. 120.]  [ 90. 194. 177.]  [249. 248. 245.]\n",
       "502    ZBH  [ -0. 159. 223.]     [55. 27.  0.]     [51. 51. 51.]\n",
       "503   ZION     [84. 83. 74.]  [218. 218. 217.]  [255. 255. 255.]\n",
       "504    ZTS  [193. 127.  95.]  [239. 234. 232.]  [254. 254. 254.]\n",
       "\n",
       "[505 rows x 4 columns]"
      ]
     },
     "execution_count": 401,
     "metadata": {},
     "output_type": "execute_result"
    }
   ],
   "source": [
    "pd.read_csv('datas/brand_colors.csv')"
   ]
  },
  {
   "cell_type": "code",
   "execution_count": 402,
   "metadata": {},
   "outputs": [
    {
     "data": {
      "text/html": [
       "<div>\n",
       "<style scoped>\n",
       "    .dataframe tbody tr th:only-of-type {\n",
       "        vertical-align: middle;\n",
       "    }\n",
       "\n",
       "    .dataframe tbody tr th {\n",
       "        vertical-align: top;\n",
       "    }\n",
       "\n",
       "    .dataframe thead th {\n",
       "        text-align: right;\n",
       "    }\n",
       "</style>\n",
       "<table border=\"1\" class=\"dataframe\">\n",
       "  <thead>\n",
       "    <tr style=\"text-align: right;\">\n",
       "      <th></th>\n",
       "      <th>symbol</th>\n",
       "      <th>color1</th>\n",
       "      <th>color2</th>\n",
       "      <th>color3</th>\n",
       "      <th>Symbol</th>\n",
       "      <th>Name</th>\n",
       "    </tr>\n",
       "  </thead>\n",
       "  <tbody>\n",
       "    <tr>\n",
       "      <th>45</th>\n",
       "      <td>AAPL</td>\n",
       "      <td>[162.0, 171.0, 173.0]</td>\n",
       "      <td>[228.0, 230.0, 231.0]</td>\n",
       "      <td>[255.0, 255.0, 255.0]</td>\n",
       "      <td>AAPL</td>\n",
       "      <td>Apple Inc.</td>\n",
       "    </tr>\n",
       "  </tbody>\n",
       "</table>\n",
       "</div>"
      ],
      "text/plain": [
       "   symbol                 color1                 color2  \\\n",
       "45   AAPL  [162.0, 171.0, 173.0]  [228.0, 230.0, 231.0]   \n",
       "\n",
       "                   color3 Symbol        Name  \n",
       "45  [255.0, 255.0, 255.0]   AAPL  Apple Inc.  "
      ]
     },
     "execution_count": 402,
     "metadata": {},
     "output_type": "execute_result"
    }
   ],
   "source": [
    "a[a['symbol'] == 'AAPL']"
   ]
  },
  {
   "cell_type": "code",
   "execution_count": 381,
   "metadata": {},
   "outputs": [
    {
     "data": {
      "text/plain": [
       "array([ True,  True,  True])"
      ]
     },
     "execution_count": 381,
     "metadata": {},
     "output_type": "execute_result"
    }
   ],
   "source": [
    "brandcolors[i%3]==brandcolors[(i+1)%3]"
   ]
  },
  {
   "cell_type": "code",
   "execution_count": 379,
   "metadata": {},
   "outputs": [
    {
     "data": {
      "text/plain": [
       "array([[  0., 154.,  73.],\n",
       "       [  0., 154.,  73.],\n",
       "       [  0., 154.,  73.]])"
      ]
     },
     "execution_count": 379,
     "metadata": {},
     "output_type": "execute_result"
    }
   ],
   "source": [
    "brandcolors"
   ]
  },
  {
   "cell_type": "code",
   "execution_count": 353,
   "metadata": {},
   "outputs": [],
   "source": [
    "for i in range(3):\n",
    "    if (np.array((saturation(brandcolors[i%3]),saturation(brandcolors[(i+1)%3]),saturation(brandcolors[(i+2)%3]))).max() == (brandcolors[i%3])).all():\n",
    "        print(i)\n",
    "\n",
    "    \n"
   ]
  },
  {
   "cell_type": "code",
   "execution_count": 359,
   "metadata": {},
   "outputs": [],
   "source": [
    "i = 2"
   ]
  },
  {
   "cell_type": "code",
   "execution_count": 360,
   "metadata": {},
   "outputs": [
    {
     "data": {
      "text/plain": [
       "False"
      ]
     },
     "execution_count": 360,
     "metadata": {},
     "output_type": "execute_result"
    }
   ],
   "source": [
    "(np.array((saturation(brandcolors[i%3]),saturation(brandcolors[(i+1)%3]),saturation(brandcolors[(i+2)%3]))).max() == saturation(brandcolors[i%3])).all()"
   ]
  },
  {
   "cell_type": "code",
   "execution_count": 361,
   "metadata": {},
   "outputs": [
    {
     "data": {
      "text/plain": [
       "20.666666666666657"
      ]
     },
     "execution_count": 361,
     "metadata": {},
     "output_type": "execute_result"
    }
   ],
   "source": [
    "np.array((saturation(brandcolors[i%3]),saturation(brandcolors[(i+1)%3]),saturation(brandcolors[(i+2)%3]))).max()"
   ]
  },
  {
   "cell_type": "code",
   "execution_count": 363,
   "metadata": {},
   "outputs": [
    {
     "data": {
      "text/plain": [
       "7.638297872340445"
      ]
     },
     "execution_count": 363,
     "metadata": {},
     "output_type": "execute_result"
    }
   ],
   "source": [
    "saturation(brandcolors[i%3])"
   ]
  },
  {
   "cell_type": "code",
   "execution_count": 349,
   "metadata": {},
   "outputs": [
    {
     "data": {
      "text/plain": [
       "(20.666666666666657, 3.016949152542395, 7.638297872340445)"
      ]
     },
     "execution_count": 349,
     "metadata": {},
     "output_type": "execute_result"
    }
   ],
   "source": [
    "(saturation(brandcolors[0]),saturation(brandcolors[1]),saturation(brandcolors[2]))"
   ]
  },
  {
   "cell_type": "code",
   "execution_count": 343,
   "metadata": {},
   "outputs": [
    {
     "data": {
      "text/plain": [
       "array([False, False, False])"
      ]
     },
     "execution_count": 343,
     "metadata": {},
     "output_type": "execute_result"
    }
   ],
   "source": [
    "np.array((saturation(brandcolors[i%3]),saturation(brandcolors[(i+1)%3]),saturation(brandcolors[(i+2)%3]))).max() == (brandcolors[i%3])"
   ]
  },
  {
   "cell_type": "code",
   "execution_count": 334,
   "metadata": {},
   "outputs": [
    {
     "data": {
      "text/plain": [
       "KMeans(n_clusters=3)"
      ]
     },
     "execution_count": 334,
     "metadata": {},
     "output_type": "execute_result"
    }
   ],
   "source": [
    "brandcolors"
   ]
  },
  {
   "cell_type": "code",
   "execution_count": 160,
   "metadata": {},
   "outputs": [],
   "source": [
    "#query = query[0]\n",
    "query = 'facebook.'\n",
    "enc = parse.quote(query + 'color palette')\n",
    "url = f'https://www.google.com/search?q={enc}&tbm=isch&'\n",
    "response = requests.get(url)\n",
    "#images = driver.find_elements_by_tag_name(\"img\")"
   ]
  },
  {
   "cell_type": "code",
   "execution_count": 161,
   "metadata": {},
   "outputs": [
    {
     "data": {
      "text/plain": [
       "<img alt=\"\" class=\"t0fcAb\" src=\"https://encrypted-tbn0.gstatic.com/images?q=tbn:ANd9GcRA4lAyyrGpEC5wJtJE-A95xps_OYhnaUT5zl1WTFv-fLz7fycY9d0x1LHtKT4&amp;s\"/>"
      ]
     },
     "execution_count": 161,
     "metadata": {},
     "output_type": "execute_result"
    }
   ],
   "source": [
    "dom = BeautifulSoup(response.text, \"html.parser\")\n",
    "items = dom.select(\"img\")\n",
    "items[2]"
   ]
  },
  {
   "cell_type": "code",
   "execution_count": 162,
   "metadata": {},
   "outputs": [
    {
     "data": {
      "text/plain": [
       "'https://encrypted-tbn0.gstatic.com/images?q=tbn:ANd9GcRA4lAyyrGpEC5wJtJE-A95xps_OYhnaUT5zl1WTFv-fLz7fycY9d0x1LHtKT4&s'"
      ]
     },
     "execution_count": 162,
     "metadata": {},
     "output_type": "execute_result"
    }
   ],
   "source": [
    "items[2].get('src')"
   ]
  },
  {
   "cell_type": "code",
   "execution_count": 163,
   "metadata": {},
   "outputs": [],
   "source": [
    "response = requests.get(items[1].get('src')).content"
   ]
  },
  {
   "cell_type": "code",
   "execution_count": 164,
   "metadata": {},
   "outputs": [
    {
     "data": {
      "text/plain": [
       "b'\\x89PNG\\r\\n\\x1a\\n\\x00\\x00\\x00\\rIHDR\\x00\\x00\\x00\\x8c\\x00\\x00\\x00\\x8c\\x08\\x03\\x00\\x00\\x00\\x99\\x1e\\xb1\\x0c\\x00\\x00\\x00\\x9fPLTE\\xea\\xea\\xea\\xff\\xff\\xff\\xf6\\xf7\\xf8X\\x90\\xffBg\\xb2\\x18w\\xf2Jw\\xd2L\\x87\\xf3\\x0bs\\xf2\\xca\\xd4\\xea\\xef\\xef\\xef?e\\xb1Af\\xaf\\x14p\\xe6\\xf4\\xf4\\xf5\\xef\\xee\\xeaWu\\xb7\\x96\\xb1\\xf1P\\x8c\\xff\\x8e\\x9d\\xc48a\\xb0\\xdc\\xdf\\xe4\\x87\\xa8\\xeb\\xd3\\xd3\\xd4\\x00l\\xf3\\xcc\\xcc\\xcd\\xc1\\xc1\\xc3\\xde\\xde\\xdf\\x00o\\xf2\\xe4\\xe4\\xe4\\xb3\\xc6\\xedN\\x8c\\xf1*}\\xf2\\xf4\\xf1\\xe7\\x7f\\xa3\\xef\\x9c\\xb8\\xef\\xc2\\xd0\\xec\\xaa\\xb4\\xcf\\x91\\xa5\\xd8\\xd4\\xda\\xe7\\xb7\\xc0\\xd5@r\\xd2B\\x83\\xf5\\x00j\\xe6(X\\xad\\xb4\\xb4\\xb6f\\x9b\\xf6\\x00g\\xf1\\xd8\\xe4\\xfc\\xe5\\xed\\xfd\\xf2\\xf5\\xfe\\xa7\\xbf\\xedq\\x88\\xbe\\xaeE!)\\x00\\x00\\x02\\nIDATx\\x9c\\xed\\xd9\\rS\\x9b0\\x1c\\xc7\\xf1\\xa4[F\\xca\\x9c\\x11\\'K \\xa4\\x14\\xea\\xc3\\x1e\\xc4:\\xdd\\xfb\\x7fm\\xfb\\x03\\xa7\\xe3\\x96X\\xeb\\xa9\\x176\\x7f\\x1f8\\xac)\\xa6_9\\xe8q\\x07c\\x00\\x00\\x00\\xf0v\\xa8A\\xec\\x8a\\x81R\\xab\\xb6\\xae\\xdb\\xd5\\x1crT\\x9eTRJc\\x92<z\\x8d\\xca\\xd7R\\x88J\\\\\\xd5r\\x1d\\xbd\\xa6\\xa9\\xfb\\x96\\x8c\\xf3\\x9buU7q[\\xd4\\xb2\\x12Bl9\\xbf\\xdeP\\xd32\\xee\\xa1Q\\x19\\x1d\\x18)8\\xaf\\x0c\\xfd\\xcc\"\\xc7\\xb4R\\xc8\\xa4\\xe6\\xbcN(\\xa6\\x8d\\x1f\\xb3\\xfd\\xc9\\xc9\\xcd6~\\xcc\\xad\\x14fu\\xdd\\x9f3F\\xc8\\xdb\\xc8\\x97S\\xde\\x9f3\\x92s\\xd1_Ty\\xdc\\x16\\xd6dt\\xe6\\xd2\\tL\\x1b\\x93E\\xbe\\xb4Ik\\xc6\\x18\\xd3\\xc6.!jS\\x19\\xceM\\xb5\\x89\\xfd\\xfd;P\\xcd\\xe9bq\\xda\\xcc\\xa2\\x85\\xa8a\\x05\\x00\\x00x\\x0bR\\xf5</\\x98\\xa2\\xf2\\xb3\\xcf\\x9e\\xf3,\\xe8K\\xd0\\xc5a\\x08c\\xdeP\\xfah\\xcb\\xd7\\x83\\x13\\xdf\\xb7\\xe3\\x90\\xef?\\xa4\\xaf2K\\x1e\\x92\\xa6\\x0b\\xdf\\xee\\x1cuq\\xf9\\xf1\\xbd\\xe7\\xe0\\xc3\\xbb\\x90\\xe4\\x93\\x08\\x90O\\x88Y\\xec\\x8e\\xf9u\\xe2\\xb7\\xbcb\\xcc\\xe1\\xae\\x98\\xfc(p`\\x10\\x83\\x18\\xc4 \\x061\\x88A\\x0cb\\x10\\x83\\x18\\xc4 \\x061\\x88A\\x0cb\\x10\\x83\\x18\\xc4 \\x061\\x88A\\x0cb\\x10\\xf3\\x97Y=\\xe2\\x99\\xd5\\xc3\\xafY=\\x16\\x9c\\xd7\\x03S6\\xabG\\xc9\\xb0\\x07\\xf7\\xc0\\x88\\xf3\\xdfq\\x81Aw\\xb7zS8\\x7f\\xe6\\x1d:[\\x10]\\x96Z\\xff\\x19L\\x8b\\xa2,\\xcaq\\x9d\\x9c{\\xb6\\xd4\\xb6\\xd3\\x9a\\xde+\\xecdg\\xfa\\xb5\\x1b\\xf7\\xd6\\x93\\x9d\\xfb)\\x8b\\xd2\\xd2\\xb6\\xdb;\\xa6\\xff\\x0b]\\xf4\\x9f0\\xf9\\x1fR\\x1a\\xa0\\xc95}\\xf8\\xe4S\\x99+\\xad\\xed\\xac\\xa5\\xecr2J1\\xae\\xb0\\xb6_\\xa7\\x13\\xd3\\xa4\\x14\\xef\\xacv\\xfb\\xc7\\xb0t\\x9f\\xcb\\x0e\\x00\\x00\\x00\\xe0\\x1fe\\x99v\\xb4\\xb0~q\\xce\\x92a3\\x0c\\xd1\\x1b\\x969K/\\x87W\\xaf.\\x1dR\\xc6\\x85\\r\\x19#}\\xdfx\\x17\\xa3\\x1f\\x9f\\xec\\x058v\\x7f\\xa3\\xfd\\xf0\\xad\\xf5\\x93n\\xba\\x01\\x00\\x00\\x00\\xe0?\\xf7\\x1b\\xc9x\\x97\\xccB\\xde\\x1d\\x98\\x00\\x00\\x00\\x00IEND\\xaeB`\\x82'"
      ]
     },
     "execution_count": 164,
     "metadata": {},
     "output_type": "execute_result"
    }
   ],
   "source": [
    "response"
   ]
  },
  {
   "cell_type": "code",
   "execution_count": 165,
   "metadata": {},
   "outputs": [],
   "source": [
    "import cv2"
   ]
  },
  {
   "cell_type": "code",
   "execution_count": 166,
   "metadata": {},
   "outputs": [],
   "source": [
    "a = np.fromstring(response, dtype = np.uint8)"
   ]
  },
  {
   "cell_type": "code",
   "execution_count": 167,
   "metadata": {},
   "outputs": [],
   "source": [
    "img = cv2.imdecode(a, cv2.IMREAD_COLOR)                             \n",
    "img = cv2.cvtColor(img, cv2.COLOR_BGR2RGB)"
   ]
  },
  {
   "cell_type": "code",
   "execution_count": 277,
   "metadata": {},
   "outputs": [
    {
     "data": {
      "text/plain": [
       "(140, 140, 3)"
      ]
     },
     "execution_count": 277,
     "metadata": {},
     "output_type": "execute_result"
    }
   ],
   "source": [
    "img.shape"
   ]
  },
  {
   "cell_type": "code",
   "execution_count": 180,
   "metadata": {},
   "outputs": [
    {
     "data": {
      "text/plain": [
       "array([[234, 234, 234],\n",
       "       [234, 234, 234],\n",
       "       [234, 234, 234],\n",
       "       [234, 234, 234],\n",
       "       [234, 234, 234],\n",
       "       [234, 234, 234],\n",
       "       [234, 234, 234],\n",
       "       [234, 234, 234],\n",
       "       [234, 234, 234],\n",
       "       [234, 234, 234],\n",
       "       [234, 234, 234],\n",
       "       [234, 234, 234],\n",
       "       [234, 234, 234],\n",
       "       [220, 223, 228],\n",
       "       [ 87, 117, 183],\n",
       "       [ 63, 101, 177],\n",
       "       [ 66, 103, 178],\n",
       "       [ 66, 103, 178],\n",
       "       [ 66, 103, 178],\n",
       "       [ 66, 103, 178],\n",
       "       [ 66, 103, 178],\n",
       "       [ 66, 103, 178],\n",
       "       [ 66, 103, 178],\n",
       "       [ 66, 103, 178],\n",
       "       [ 66, 103, 178],\n",
       "       [ 66, 103, 178],\n",
       "       [ 66, 103, 178],\n",
       "       [ 66, 103, 178],\n",
       "       [ 66, 103, 178],\n",
       "       [ 66, 103, 178],\n",
       "       [ 66, 103, 178],\n",
       "       [ 66, 103, 178],\n",
       "       [ 66, 103, 178],\n",
       "       [ 66, 103, 178],\n",
       "       [ 66, 103, 178],\n",
       "       [ 65, 102, 175],\n",
       "       [ 74, 119, 210],\n",
       "       [ 88, 144, 255],\n",
       "       [ 88, 144, 255],\n",
       "       [ 88, 144, 255],\n",
       "       [ 88, 144, 255],\n",
       "       [ 88, 144, 255],\n",
       "       [ 88, 144, 255],\n",
       "       [ 88, 144, 255],\n",
       "       [ 88, 144, 255],\n",
       "       [ 88, 144, 255],\n",
       "       [ 88, 144, 255],\n",
       "       [ 88, 144, 255],\n",
       "       [ 88, 144, 255],\n",
       "       [ 88, 144, 255],\n",
       "       [ 88, 144, 255],\n",
       "       [ 88, 144, 255],\n",
       "       [ 88, 144, 255],\n",
       "       [ 88, 144, 255],\n",
       "       [ 88, 144, 255],\n",
       "       [ 88, 144, 255],\n",
       "       [ 88, 144, 255],\n",
       "       [ 88, 144, 255],\n",
       "       [ 76, 135, 243],\n",
       "       [ 20, 112, 230],\n",
       "       [ 24, 119, 242],\n",
       "       [ 24, 119, 242],\n",
       "       [ 24, 119, 242],\n",
       "       [ 24, 119, 242],\n",
       "       [ 24, 119, 242],\n",
       "       [ 24, 119, 242],\n",
       "       [ 24, 119, 242],\n",
       "       [ 24, 119, 242],\n",
       "       [ 24, 119, 242],\n",
       "       [ 24, 119, 242],\n",
       "       [ 24, 119, 242],\n",
       "       [ 24, 119, 242],\n",
       "       [ 24, 119, 242],\n",
       "       [ 24, 119, 242],\n",
       "       [ 24, 119, 242],\n",
       "       [ 24, 119, 242],\n",
       "       [ 24, 119, 242],\n",
       "       [ 24, 119, 242],\n",
       "       [ 24, 119, 242],\n",
       "       [ 24, 119, 242],\n",
       "       [ 11, 115, 242],\n",
       "       [202, 212, 234],\n",
       "       [255, 255, 255],\n",
       "       [255, 255, 255],\n",
       "       [255, 255, 255],\n",
       "       [255, 255, 255],\n",
       "       [255, 255, 255],\n",
       "       [255, 255, 255],\n",
       "       [255, 255, 255],\n",
       "       [255, 255, 255],\n",
       "       [255, 255, 255],\n",
       "       [255, 255, 255],\n",
       "       [255, 255, 255],\n",
       "       [255, 255, 255],\n",
       "       [255, 255, 255],\n",
       "       [255, 255, 255],\n",
       "       [255, 255, 255],\n",
       "       [255, 255, 255],\n",
       "       [255, 255, 255],\n",
       "       [255, 255, 255],\n",
       "       [255, 255, 255],\n",
       "       [255, 255, 255],\n",
       "       [255, 255, 255],\n",
       "       [239, 239, 239],\n",
       "       [239, 239, 239],\n",
       "       [246, 247, 248],\n",
       "       [246, 247, 248],\n",
       "       [246, 247, 248],\n",
       "       [246, 247, 248],\n",
       "       [246, 247, 248],\n",
       "       [246, 247, 248],\n",
       "       [246, 247, 248],\n",
       "       [246, 247, 248],\n",
       "       [246, 247, 248],\n",
       "       [246, 247, 248],\n",
       "       [246, 247, 248],\n",
       "       [246, 247, 248],\n",
       "       [246, 247, 248],\n",
       "       [246, 247, 248],\n",
       "       [246, 247, 248],\n",
       "       [246, 247, 248],\n",
       "       [246, 247, 248],\n",
       "       [246, 247, 248],\n",
       "       [246, 247, 248],\n",
       "       [246, 247, 248],\n",
       "       [244, 244, 245],\n",
       "       [234, 234, 234],\n",
       "       [234, 234, 234],\n",
       "       [234, 234, 234],\n",
       "       [234, 234, 234],\n",
       "       [234, 234, 234],\n",
       "       [234, 234, 234],\n",
       "       [234, 234, 234],\n",
       "       [234, 234, 234],\n",
       "       [234, 234, 234],\n",
       "       [234, 234, 234],\n",
       "       [234, 234, 234],\n",
       "       [234, 234, 234],\n",
       "       [234, 234, 234],\n",
       "       [234, 234, 234]], dtype=uint8)"
      ]
     },
     "execution_count": 180,
     "metadata": {},
     "output_type": "execute_result"
    }
   ],
   "source": [
    "img[int((img.shape[0])/2)]"
   ]
  },
  {
   "cell_type": "code",
   "execution_count": 269,
   "metadata": {},
   "outputs": [],
   "source": []
  },
  {
   "cell_type": "code",
   "execution_count": 319,
   "metadata": {},
   "outputs": [],
   "source": [
    "frame = pd.DataFrame(columns=['symbol', 'color1', 'color2', 'color3'])"
   ]
  },
  {
   "cell_type": "code",
   "execution_count": 329,
   "metadata": {},
   "outputs": [
    {
     "data": {
      "text/html": [
       "<div>\n",
       "<style scoped>\n",
       "    .dataframe tbody tr th:only-of-type {\n",
       "        vertical-align: middle;\n",
       "    }\n",
       "\n",
       "    .dataframe tbody tr th {\n",
       "        vertical-align: top;\n",
       "    }\n",
       "\n",
       "    .dataframe thead th {\n",
       "        text-align: right;\n",
       "    }\n",
       "</style>\n",
       "<table border=\"1\" class=\"dataframe\">\n",
       "  <thead>\n",
       "    <tr style=\"text-align: right;\">\n",
       "      <th></th>\n",
       "      <th>symbol</th>\n",
       "      <th>color1</th>\n",
       "      <th>color2</th>\n",
       "      <th>color3</th>\n",
       "    </tr>\n",
       "  </thead>\n",
       "  <tbody>\n",
       "    <tr>\n",
       "      <th>0</th>\n",
       "      <td>symbol</td>\n",
       "      <td>[234.0, 234.0, 234.0]</td>\n",
       "      <td>[234.0, 234.0, 234.0]</td>\n",
       "      <td>[234.0, 234.0, 234.0]</td>\n",
       "    </tr>\n",
       "  </tbody>\n",
       "</table>\n",
       "</div>"
      ],
      "text/plain": [
       "   symbol                 color1                 color2                 color3\n",
       "0  symbol  [234.0, 234.0, 234.0]  [234.0, 234.0, 234.0]  [234.0, 234.0, 234.0]"
      ]
     },
     "execution_count": 329,
     "metadata": {},
     "output_type": "execute_result"
    }
   ],
   "source": [
    "frame.append(pd.Series(['symbol', colors[0], colors[1],colors[2]], index=frame.columns), ignore_index=True)"
   ]
  },
  {
   "cell_type": "code",
   "execution_count": 296,
   "metadata": {},
   "outputs": [
    {
     "ename": "TypeError",
     "evalue": "unhashable type: 'numpy.ndarray'",
     "output_type": "error",
     "traceback": [
      "\u001b[1;31m---------------------------------------------------------------------------\u001b[0m",
      "\u001b[1;31mTypeError\u001b[0m                                 Traceback (most recent call last)",
      "\u001b[1;32m<ipython-input-296-b15d19e3a816>\u001b[0m in \u001b[0;36m<module>\u001b[1;34m\u001b[0m\n\u001b[1;32m----> 1\u001b[1;33m \u001b[0mbrandcolors\u001b[0m\u001b[1;33m.\u001b[0m\u001b[0madd\u001b[0m\u001b[1;33m(\u001b[0m\u001b[0mnp\u001b[0m\u001b[1;33m.\u001b[0m\u001b[0marray\u001b[0m\u001b[1;33m(\u001b[0m\u001b[1;33m[\u001b[0m\u001b[1;36m1\u001b[0m\u001b[1;33m,\u001b[0m\u001b[1;36m2\u001b[0m\u001b[1;33m,\u001b[0m\u001b[1;36m3\u001b[0m\u001b[1;33m]\u001b[0m\u001b[1;33m)\u001b[0m\u001b[1;33m)\u001b[0m\u001b[1;33m\u001b[0m\u001b[1;33m\u001b[0m\u001b[0m\n\u001b[0m",
      "\u001b[1;31mTypeError\u001b[0m: unhashable type: 'numpy.ndarray'"
     ]
    }
   ],
   "source": [
    "brandcolors.add(np.array([1,2,3]))"
   ]
  },
  {
   "cell_type": "code",
   "execution_count": 315,
   "metadata": {},
   "outputs": [],
   "source": [
    "clt_1 = clt.fit(colors)"
   ]
  },
  {
   "cell_type": "code",
   "execution_count": 316,
   "metadata": {},
   "outputs": [],
   "source": [
    "colors = clt_1.cluster_centers_"
   ]
  },
  {
   "cell_type": "code",
   "execution_count": 317,
   "metadata": {},
   "outputs": [
    {
     "data": {
      "text/plain": [
       "array([[234., 234., 234.],\n",
       "       [234., 234., 234.],\n",
       "       [234., 234., 234.]])"
      ]
     },
     "execution_count": 317,
     "metadata": {},
     "output_type": "execute_result"
    }
   ],
   "source": [
    "colors"
   ]
  },
  {
   "cell_type": "code",
   "execution_count": 285,
   "metadata": {},
   "outputs": [
    {
     "data": {
      "text/plain": [
       "True"
      ]
     },
     "execution_count": 285,
     "metadata": {},
     "output_type": "execute_result"
    }
   ],
   "source": [
    "(colors[0] == colors[1]).all()"
   ]
  },
  {
   "cell_type": "code",
   "execution_count": 281,
   "metadata": {},
   "outputs": [
    {
     "ename": "AttributeError",
     "evalue": "'numpy.ndarray' object has no attribute 'cluster_centers_'",
     "output_type": "error",
     "traceback": [
      "\u001b[1;31m---------------------------------------------------------------------------\u001b[0m",
      "\u001b[1;31mAttributeError\u001b[0m                            Traceback (most recent call last)",
      "\u001b[1;32m<ipython-input-281-ba7846e91950>\u001b[0m in \u001b[0;36m<module>\u001b[1;34m\u001b[0m\n\u001b[1;32m----> 1\u001b[1;33m \u001b[0mimg\u001b[0m\u001b[1;33m[\u001b[0m\u001b[1;36m0\u001b[0m\u001b[1;33m]\u001b[0m\u001b[1;33m.\u001b[0m\u001b[0mcluster_centers_\u001b[0m\u001b[1;33m\u001b[0m\u001b[1;33m\u001b[0m\u001b[0m\n\u001b[0m",
      "\u001b[1;31mAttributeError\u001b[0m: 'numpy.ndarray' object has no attribute 'cluster_centers_'"
     ]
    }
   ],
   "source": [
    "img[0].cluster_centers_"
   ]
  },
  {
   "cell_type": "code",
   "execution_count": 282,
   "metadata": {},
   "outputs": [],
   "source": [
    "res = img[0].reshape(-1, 3)\n",
    "clt_1 = clt.fit(res)\n",
    "colors = clt_1.cluster_centers_"
   ]
  },
  {
   "cell_type": "code",
   "execution_count": 284,
   "metadata": {},
   "outputs": [],
   "source": [
    "color1, color2, color3 = colors[0], colors[1], colors[2]"
   ]
  },
  {
   "cell_type": "code",
   "execution_count": null,
   "metadata": {},
   "outputs": [],
   "source": [
    "colors.max()"
   ]
  },
  {
   "cell_type": "code",
   "execution_count": 221,
   "metadata": {},
   "outputs": [
    {
     "data": {
      "text/plain": [
       "0.0"
      ]
     },
     "execution_count": 221,
     "metadata": {},
     "output_type": "execute_result"
    }
   ],
   "source": [
    "saturation(colors[0])"
   ]
  },
  {
   "cell_type": "code",
   "execution_count": 222,
   "metadata": {},
   "outputs": [
    {
     "data": {
      "text/plain": [
       "array([[234., 234., 234.],\n",
       "       [234., 234., 234.],\n",
       "       [234., 234., 234.]])"
      ]
     },
     "execution_count": 222,
     "metadata": {},
     "output_type": "execute_result"
    }
   ],
   "source": [
    "colors"
   ]
  },
  {
   "cell_type": "code",
   "execution_count": 210,
   "metadata": {},
   "outputs": [
    {
     "data": {
      "text/plain": [
       "112.34782608695654"
      ]
     },
     "execution_count": 210,
     "metadata": {},
     "output_type": "execute_result"
    }
   ],
   "source": [
    "colors[2].max() - colors[2].min()"
   ]
  },
  {
   "cell_type": "code",
   "execution_count": 200,
   "metadata": {},
   "outputs": [],
   "source": [
    "def palette(clusters):\n",
    "    width=300\n",
    "    palette = np.zeros((50, width, 3), np.uint8)\n",
    "    steps = width/clusters.cluster_centers_.shape[0]\n",
    "    for idx, centers in enumerate(clusters.cluster_centers_): \n",
    "        palette[:, int(idx*steps):(int((idx+1)*steps)), :] = centers\n",
    "    return palette"
   ]
  },
  {
   "cell_type": "code",
   "execution_count": 203,
   "metadata": {
    "scrolled": true
   },
   "outputs": [
    {
     "data": {
      "image/png": "[encoded data removed]",
      "text/plain": [
       "<PIL.Image.Image image mode=RGB size=300x50 at 0x1F0D2A00D00>"
      ]
     },
     "execution_count": 203,
     "metadata": {},
     "output_type": "execute_result"
    }
   ],
   "source": [
    "Image.fromarray(palette(clt_1).astype('u1'))"
   ]
  },
  {
   "cell_type": "code",
   "execution_count": 189,
   "metadata": {},
   "outputs": [
    {
     "ename": "error",
     "evalue": "required argument is not an integer",
     "output_type": "error",
     "traceback": [
      "\u001b[1;31m---------------------------------------------------------------------------\u001b[0m",
      "\u001b[1;31merror\u001b[0m                                     Traceback (most recent call last)",
      "\u001b[1;32m<ipython-input-189-78adaaaed815>\u001b[0m in \u001b[0;36m<module>\u001b[1;34m\u001b[0m\n\u001b[0;32m      1\u001b[0m \u001b[1;32mimport\u001b[0m \u001b[0mstruct\u001b[0m\u001b[1;33m\u001b[0m\u001b[1;33m\u001b[0m\u001b[0m\n\u001b[1;32m----> 2\u001b[1;33m \u001b[0mnetwork_stream\u001b[0m \u001b[1;33m=\u001b[0m \u001b[0mstruct\u001b[0m\u001b[1;33m.\u001b[0m\u001b[0mpack\u001b[0m\u001b[1;33m(\u001b[0m\u001b[1;34m'>I'\u001b[0m\u001b[1;33m,\u001b[0m \u001b[0mresponse\u001b[0m\u001b[1;33m)\u001b[0m\u001b[1;33m\u001b[0m\u001b[1;33m\u001b[0m\u001b[0m\n\u001b[0m\u001b[0;32m      3\u001b[0m \u001b[1;33m(\u001b[0m\u001b[0mconverted_int\u001b[0m\u001b[1;33m,\u001b[0m\u001b[1;33m)\u001b[0m \u001b[1;33m=\u001b[0m \u001b[0mstruct\u001b[0m\u001b[1;33m.\u001b[0m\u001b[0munpack_from\u001b[0m\u001b[1;33m(\u001b[0m\u001b[1;34m'>I'\u001b[0m\u001b[1;33m,\u001b[0m \u001b[0mnetwork_stream\u001b[0m\u001b[1;33m,\u001b[0m \u001b[1;36m0\u001b[0m\u001b[1;33m)\u001b[0m\u001b[1;33m\u001b[0m\u001b[1;33m\u001b[0m\u001b[0m\n\u001b[0;32m      4\u001b[0m \u001b[0mcolors\u001b[0m \u001b[1;33m=\u001b[0m \u001b[0mclt_1\u001b[0m\u001b[1;33m.\u001b[0m\u001b[0mcluster_centers_\u001b[0m\u001b[1;33m\u001b[0m\u001b[1;33m\u001b[0m\u001b[0m\n",
      "\u001b[1;31merror\u001b[0m: required argument is not an integer"
     ]
    }
   ],
   "source": [
    "import struct\n",
    "network_stream = struct.pack('>I', response)\n",
    "(converted_int,) = struct.unpack_from('>I', network_stream, 0) \n"
   ]
  },
  {
   "cell_type": "code",
   "execution_count": null,
   "metadata": {},
   "outputs": [],
   "source": [
    "requests.get(url).content"
   ]
  },
  {
   "cell_type": "code",
   "execution_count": 47,
   "metadata": {},
   "outputs": [],
   "source": [
    "dom = BeautifulSoup(response.text, \"html.parser\")"
   ]
  },
  {
   "cell_type": "code",
   "execution_count": 49,
   "metadata": {},
   "outputs": [],
   "source": [
    "imgUrl = dom.find(\"img\")[\"src\"]"
   ]
  },
  {
   "cell_type": "code",
   "execution_count": 50,
   "metadata": {},
   "outputs": [
    {
     "data": {
      "text/plain": [
       "'/images/branding/searchlogo/1x/googlelogo_desk_heirloom_color_150x55dp.gif'"
      ]
     },
     "execution_count": 50,
     "metadata": {},
     "output_type": "execute_result"
    }
   ],
   "source": [
    "imgUrl"
   ]
  },
  {
   "cell_type": "code",
   "execution_count": 26,
   "metadata": {},
   "outputs": [
    {
     "data": {
      "text/plain": [
       "<Response [200]>"
      ]
     },
     "execution_count": 26,
     "metadata": {},
     "output_type": "execute_result"
    }
   ],
   "source": [
    "response"
   ]
  },
  {
   "cell_type": "code",
   "execution_count": null,
   "metadata": {},
   "outputs": [],
   "source": []
  }
 ],
 "metadata": {
  "kernelspec": {
   "display_name": "Python 3",
   "language": "python",
   "name": "python3"
  },
  "language_info": {
   "codemirror_mode": {
    "name": "ipython",
    "version": 3
   },
   "file_extension": ".py",
   "mimetype": "text/x-python",
   "name": "python",
   "nbconvert_exporter": "python",
   "pygments_lexer": "ipython3",
   "version": "3.8.5"
  },
  "toc": {
   "base_numbering": 1,
   "nav_menu": {},
   "number_sections": true,
   "sideBar": true,
   "skip_h1_title": false,
   "title_cell": "Table of Contents",
   "title_sidebar": "Contents",
   "toc_cell": false,
   "toc_position": {},
   "toc_section_display": true,
   "toc_window_display": false
  }
 },
 "nbformat": 4,
 "nbformat_minor": 4
}
