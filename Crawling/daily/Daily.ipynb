{
 "cells": [
  {
   "cell_type": "code",
   "execution_count": 1,
   "id": "f005ecf4",
   "metadata": {},
   "outputs": [],
   "source": [
    "import pandas as pd\n",
    "import FinanceDataReader as fdr\n",
    "import numpy as np\n",
    "from datetime import datetime, timedelta\n",
    "import time"
   ]
  },
  {
   "cell_type": "code",
   "execution_count": 2,
   "id": "7ba1a2c3",
   "metadata": {},
   "outputs": [],
   "source": [
    "symbol_list = [\"MMM\",\"ABT\",\"ABBV\",\"ABMD\",\"ACN\",\"ATVI\",\"ADBE\",\"AMD\",\"AAP\",\\\n",
    "               \"AES\",\"AFL\",\"A\",\"APD\",\"AKAM\",\"ALK\",\"ALB\",\"ARE\",\"ALXN\",\"ALGN\",\\\n",
    "               \"ALLE\",\"LNT\",\"ALL\",\"GOOGL\",\"GOOG\",\"MO\",\"AMZN\",\"AMCR\",\"AEE\",\"AAL\",\\\n",
    "               \"AEP\",\"AXP\",\"AIG\",\"AMT\",\"AWK\",\"AMP\",\"ABC\",\"AME\",\"AMGN\",\"APH\",\"ADI\",\\\n",
    "               \"ANSS\",\"ANTM\",\"AON\",\"AOS\",\"APA\",\"AAPL\",\"AMAT\",\"APTV\",\"ADM\",\"ANET\",\"AJG\",\\\n",
    "               \"AIZ\",\"T\",\"ATO\",\"ADSK\",\"ADP\",\"AZO\",\"AVB\",\"AVY\",\"BKR\",\"BLL\",\"BAC\",\"BK\",\"BAX\",\\\n",
    "               \"BDX\",\"BRKB\",\"BBY\",\"BIO\",\"BIIB\",\"BLK\",\"BA\",\"BKNG\",\"BWA\",\"BXP\",\"BSX\",\"BMY\",\"AVGO\",\\\n",
    "               \"BR\",\"BFB\",\"CHRW\",\"COG\",\"CDNS\",\"CZR\",\"CPB\",\"COF\",\"CAH\",\"KMX\",\"CCL\",\"CARR\",\"CTLT\",\"CAT\"\\\n",
    "               ,\"CBOE\",\"CBRE\",\"CDW\",\"CE\",\"CNC\",\"CNP\",\"CERN\",\"CF\",\"CRL\",\"SCHW\",\"CHTR\",\"CVX\",\"CMG\",\"CB\",\"CHD\",\\\n",
    "               \"CI\",\"CINF\",\"CTAS\",\"CSCO\",\"C\",\"CFG\",\"CTXS\",\"CLX\",\"CME\",\"CMS\",\"KO\",\"CTSH\",\"CL\",\"CMCSA\",\"CMA\",\"CAG\",\\\n",
    "               \"COP\",\"ED\",\"STZ\",\"COO\",\"CPRT\",\"GLW\",\"CTVA\",\"COST\",\"CCI\",\"CSX\",\"CMI\",\"CVS\",\"DHI\",\"DHR\",\"DRI\",\"DVA\",\"DE\",\\\n",
    "               \"DAL\",\"XRAY\",\"DVN\",\"DXCM\",\"FANG\",\"DLR\",\"DFS\",\"DISCA\",\"DISCK\",\"DISH\",\"DG\",\"DLTR\",\"D\",\"DPZ\",\"DOV\",\"DOW\",\"DTE\",\\\n",
    "               \"DUK\",\"DRE\",\"DD\",\"DXC\",\"EMN\",\"ETN\",\"EBAY\",\"ECL\",\"EIX\",\"EW\",\"EA\",\"EMR\",\"ENPH\",\"ETR\",\"EOG\",\"EFX\",\"EQIX\",\"EQR\",\"ESS\",\\\n",
    "               \"EL\",\"ETSY\",\"EVRG\",\"ES\",\"RE\",\"EXC\",\"EXPE\",\"EXPD\",\"EXR\",\"XOM\",\"FFIV\",\"FB\",\"FAST\",\"FRT\",\"FDX\",\"FIS\",\"FITB\",\"FE\",\"FRC\",\\\n",
    "               \"FISV\",\"FLT\",\"FMC\",\"F\",\"FTNT\",\"FTV\",\"FBHS\",\"FOXA\",\"FOX\",\"BEN\",\"FCX\",\"GPS\",\"GRMN\",\"IT\",\"GNRC\",\"GD\",\"GE\",\"GIS\",\"GM\",\"GPC\",\\\n",
    "               \"GILD\",\"GL\",\"GPN\",\"GS\",\"GWW\",\"HAL\",\"HBI\",\"HIG\",\"HAS\",\"HCA\",\"PEAK\",\"HSIC\",\"HSY\",\"HES\",\"HPE\",\"HLT\",\"HFC\",\"HOLX\",\"HD\",\"HON\",\\\n",
    "               \"HRL\",\"HST\",\"HWM\",\"HPQ\",\"HUM\",\"HBAN\",\"HII\",\"IEX\",\"IDXX\",\"INFO\",\"ITW\",\"ILMN\",\"INCY\",\"IR\",\"INTC\",\"ICE\",\"IBM\",\"IP\",\"IPG\",\"IFF\",\\\n",
    "               \"INTU\",\"ISRG\",\"IVZ\",\"IPGP\",\"IQV\",\"IRM\",\"JKHY\",\"J\",\"JBHT\",\"SJM\",\"JNJ\",\"JCI\",\"JPM\",\"JNPR\",\"KSU\",\"K\",\"KEY\",\"KEYS\",\"KMB\",\"KIM\",\"KMI\",\\\n",
    "               \"KLAC\",\"KHC\",\"KR\",\"LB\",\"LHX\",\"LH\",\"LRCX\",\"LW\",\"LVS\",\"LEG\",\"LDOS\",\"LEN\",\"LLY\",\"LNC\",\"LIN\",\"LYV\",\"LKQ\",\"LMT\",\"L\",\"LOW\",\"LUMN\",\"LYB\",\\\n",
    "               \"MTB\",\"MRO\",\"MPC\",\"MKTX\",\"MAR\",\"MMC\",\"MLM\",\"MAS\",\"MA\",\"MKC\",\"MXIM\",\"MCD\",\"MCK\",\"MDT\",\"MRK\",\"MET\",\"MTD\",\"MGM\",\"MCHP\",\"MU\",\"MSFT\",\"MAA\",\\\n",
    "               \"MHK\",\"TAP\",\"MDLZ\",\"MPWR\",\"MNST\",\"MCO\",\"MS\",\"MOS\",\"MSI\",\"MSCI\",\"NDAQ\",\"NTAP\",\"NFLX\",\"NWL\",\"NEM\",\"NWSA\",\"NWS\",\"NEE\",\"NLSN\",\"NKE\",\"NI\",\"NSC\",\\\n",
    "               \"NTRS\",\"NOC\",\"NLOK\",\"NCLH\",\"NOV\",\"NRG\",\"NUE\",\"NVDA\",\"NVR\",\"NXPI\",\"ORLY\",\"OXY\",\"ODFL\",\"OMC\",\"OKE\",\"ORCL\",\"OTIS\",\"PCAR\",\"PKG\",\"PH\",\"PAYX\",\"PAYC\",\\\n",
    "               \"PYPL\",\"PENN\",\"PNR\",\"PBCT\",\"PEP\",\"PKI\",\"PRGO\",\"PFE\",\"PM\",\"PSX\",\"PNW\",\"PXD\",\"PNC\",\"POOL\",\"PPG\",\"PPL\",\"PFG\",\"PG\",\"PGR\",\"PLD\",\"PRU\",\"PTC\",\"PEG\",\"PSA\",\\\n",
    "               \"PHM\",\"PVH\",\"QRVO\",\"PWR\",\"QCOM\",\"DGX\",\"RL\",\"RJF\",\"RTX\",\"O\",\"REG\",\"REGN\",\"RF\",\"RSG\",\"RMD\",\"RHI\",\"ROK\",\"ROL\",\"ROP\",\"ROST\",\"RCL\",\"SPGI\",\"CRM\",\"SBAC\",\\\n",
    "               \"SLB\",\"STX\",\"SEE\",\"SRE\",\"NOW\",\"SHW\",\"SPG\",\"SWKS\",\"SNA\",\"SO\",\"LUV\",\"SWK\",\"SBUX\",\"STT\",\"STE\",\"SYK\",\"SIVB\",\"SYF\",\"SNPS\",\"SYY\",\"TMUS\",\"TROW\",\"TTWO\",\"TPR\",\\\n",
    "               \"TGT\",\"TEL\",\"TDY\",\"TFX\",\"TER\",\"TSLA\",\"TXN\",\"TXT\",\"TMO\",\"TJX\",\"TSCO\",\"TT\",\"TDG\",\"TRV\",\"TRMB\",\"TFC\",\"TWTR\",\"TYL\",\"TSN\",\"UDR\",\"ULTA\",\"USB\",\"UAA\",\"UA\",\"UNP\",\\\n",
    "               \"UAL\",\"UNH\",\"UPS\",\"URI\",\"UHS\",\"UNM\",\"VLO\",\"VTR\",\"VRSN\",\"VRSK\",\"VZ\",\"VRTX\",\"VFC\",\"VIAC\",\"VTRS\",\"V\",\"VNO\",\"VMC\",\"WRB\",\"WAB\",\"WMT\",\"WBA\",\"DIS\",\"WM\",\"WAT\",\"WEC\",\\\n",
    "               \"WFC\",\"WELL\",\"WST\",\"WDC\",\"WU\",\"WRK\",\"WY\",\"WHR\",\"WMB\",\"WLTW\",\"WYNN\",\"XEL\",\"XLNX\",\"XYL\",\"YUM\",\"ZBRA\",\"ZBH\",\"ZION\",\"ZTS\",\"US500\"]"
   ]
  },
  {
   "cell_type": "code",
   "execution_count": 3,
   "id": "4b34eab3",
   "metadata": {},
   "outputs": [
    {
     "output_type": "stream",
     "name": "stdout",
     "text": [
      "          Date Symbol    Close     Open     High      Low      Volume  Change\n0   2021-06-24  US500  4266.49  4256.97  4271.28  4256.97         0.0  0.0058\n1   2021-06-24    ZTS   185.38   186.30   187.34   185.00   1690000.0 -0.0040\n2   2021-06-24   ZION    54.21    52.87    54.43    52.87   1350000.0  0.0201\n3   2021-06-24    ZBH   164.39   165.04   165.37   163.62   1090000.0 -0.0005\n4   2021-06-24   ZBRA   510.39   505.31   511.29   501.50    258470.0  0.0149\n..         ...    ...      ...      ...      ...      ...         ...     ...\n502 2021-06-24   ABMD   311.81   322.30   324.54   310.85    366780.0 -0.0307\n503 2021-06-24   ABBV   114.74   114.32   116.18   114.30   7710000.0  0.0065\n504 2021-06-24    ABT   111.70   111.41   113.47   111.41   9720000.0  0.0078\n505 2021-06-24    MMM   193.26   193.39   193.74   191.64   2190000.0  0.0047\n506 2021-06-24   AAPL   133.41   134.45   134.51   132.94  68710000.0 -0.0022\n\n[507 rows x 8 columns]\ntime : 724.3334293365479\nCPU times: user 1min 13s, sys: 3.7 s, total: 1min 17s\nWall time: 12min 4s\n"
     ]
    }
   ],
   "source": [
    "\n",
    "%%time\n",
    "start = time.time() # 시작시간 저장\n",
    "yesterday = datetime.today() - timedelta(1)\n",
    "\n",
    "apple = fdr.DataReader(\"AAPL\",yesterday) # fdr 기존 양식에 symbol_list를 추가하기 위해 base_table 생성\n",
    "apple\n",
    "\n",
    "dfs = apple\n",
    "dfs['Symbol'] = \"AAPL\"\n",
    "\n",
    "symbol_list\n",
    "\n",
    "for i in symbol_list: # apple data frame에 symbol_list 추가작업 진행\n",
    "    data = fdr.DataReader(i, yesterday)\n",
    "    df = pd.DataFrame(data)\n",
    "    df['Symbol'] = i\n",
    "    dfs = pd.concat([df,dfs])\n",
    "\n",
    "dfs = dfs[['Symbol', 'Close', \"Open\", \"High\", \"Low\", \"Volume\", \"Change\"]]\n",
    "dfs = dfs.reset_index() # reset_index()를 사용해 date column에 위치하게 정렬\n",
    "dfs = dfs.drop_duplicates() # 상단에 생성한 중복된 apple 정보 삭제\n",
    "print(dfs)\n",
    "print(\"time :\", time.time() - start) # 현재시각 - 시작시간 = 실행시간"
   ]
  },
  {
   "cell_type": "code",
   "execution_count": 10,
   "id": "98a40f9d",
   "metadata": {},
   "outputs": [
    {
     "output_type": "execute_result",
     "data": {
      "text/plain": [
       "    Symbol  amount to be registered\n",
       "0      MMM                579675002\n",
       "1      ABT               1776820148\n",
       "2     ABBV               1766222336\n",
       "3     ABMD                 45295979\n",
       "4      ACN                665635732\n",
       "..     ...                      ...\n",
       "500    YUM                297901153\n",
       "501   ZBRA                 53511255\n",
       "502    ZBH                208482101\n",
       "503   ZION                163815613\n",
       "504    ZTS                474973405\n",
       "\n",
       "[505 rows x 2 columns]"
      ],
      "text/html": "<div>\n<style scoped>\n    .dataframe tbody tr th:only-of-type {\n        vertical-align: middle;\n    }\n\n    .dataframe tbody tr th {\n        vertical-align: top;\n    }\n\n    .dataframe thead th {\n        text-align: right;\n    }\n</style>\n<table border=\"1\" class=\"dataframe\">\n  <thead>\n    <tr style=\"text-align: right;\">\n      <th></th>\n      <th>Symbol</th>\n      <th>amount to be registered</th>\n    </tr>\n  </thead>\n  <tbody>\n    <tr>\n      <th>0</th>\n      <td>MMM</td>\n      <td>579675002</td>\n    </tr>\n    <tr>\n      <th>1</th>\n      <td>ABT</td>\n      <td>1776820148</td>\n    </tr>\n    <tr>\n      <th>2</th>\n      <td>ABBV</td>\n      <td>1766222336</td>\n    </tr>\n    <tr>\n      <th>3</th>\n      <td>ABMD</td>\n      <td>45295979</td>\n    </tr>\n    <tr>\n      <th>4</th>\n      <td>ACN</td>\n      <td>665635732</td>\n    </tr>\n    <tr>\n      <th>...</th>\n      <td>...</td>\n      <td>...</td>\n    </tr>\n    <tr>\n      <th>500</th>\n      <td>YUM</td>\n      <td>297901153</td>\n    </tr>\n    <tr>\n      <th>501</th>\n      <td>ZBRA</td>\n      <td>53511255</td>\n    </tr>\n    <tr>\n      <th>502</th>\n      <td>ZBH</td>\n      <td>208482101</td>\n    </tr>\n    <tr>\n      <th>503</th>\n      <td>ZION</td>\n      <td>163815613</td>\n    </tr>\n    <tr>\n      <th>504</th>\n      <td>ZTS</td>\n      <td>474973405</td>\n    </tr>\n  </tbody>\n</table>\n<p>505 rows × 2 columns</p>\n</div>"
     },
     "metadata": {},
     "execution_count": 10
    }
   ],
   "source": [
    "us_stock_basedata = pd.read_csv('./amount_to_be registered.csv') # frd에 없는 data csv로 import\n",
    "us_stock_basedata"
   ]
  },
  {
   "cell_type": "code",
   "execution_count": 12,
   "id": "f771469a",
   "metadata": {},
   "outputs": [
    {
     "output_type": "execute_result",
     "data": {
      "text/plain": [
       "          Date Symbol    Close     Open     High      Low     Volume  Change  \\\n",
       "0   2021-06-24  US500  4266.49  4256.97  4271.28  4256.97        0.0  0.0058   \n",
       "1   2021-06-24    ZTS   185.38   186.30   187.34   185.00  1690000.0 -0.0040   \n",
       "2   2021-06-24   ZION    54.21    52.87    54.43    52.87  1350000.0  0.0201   \n",
       "3   2021-06-24    ZBH   164.39   165.04   165.37   163.62  1090000.0 -0.0005   \n",
       "4   2021-06-24   ZBRA   510.39   505.31   511.29   501.50   258470.0  0.0149   \n",
       "..         ...    ...      ...      ...      ...      ...        ...     ...   \n",
       "501 2021-06-24    ACN   291.56   297.15   297.35   289.66  3000000.0  0.0205   \n",
       "502 2021-06-24   ABMD   311.81   322.30   324.54   310.85   366780.0 -0.0307   \n",
       "503 2021-06-24   ABBV   114.74   114.32   116.18   114.30  7710000.0  0.0065   \n",
       "504 2021-06-24    ABT   111.70   111.41   113.47   111.41  9720000.0  0.0078   \n",
       "505 2021-06-24    MMM   193.26   193.39   193.74   191.64  2190000.0  0.0047   \n",
       "\n",
       "     amount to be registered  \n",
       "0                        NaN  \n",
       "1               4.749734e+08  \n",
       "2               1.638156e+08  \n",
       "3               2.084821e+08  \n",
       "4               5.351126e+07  \n",
       "..                       ...  \n",
       "501             6.656357e+08  \n",
       "502             4.529598e+07  \n",
       "503             1.766222e+09  \n",
       "504             1.776820e+09  \n",
       "505             5.796750e+08  \n",
       "\n",
       "[506 rows x 9 columns]"
      ],
      "text/html": "<div>\n<style scoped>\n    .dataframe tbody tr th:only-of-type {\n        vertical-align: middle;\n    }\n\n    .dataframe tbody tr th {\n        vertical-align: top;\n    }\n\n    .dataframe thead th {\n        text-align: right;\n    }\n</style>\n<table border=\"1\" class=\"dataframe\">\n  <thead>\n    <tr style=\"text-align: right;\">\n      <th></th>\n      <th>Date</th>\n      <th>Symbol</th>\n      <th>Close</th>\n      <th>Open</th>\n      <th>High</th>\n      <th>Low</th>\n      <th>Volume</th>\n      <th>Change</th>\n      <th>amount to be registered</th>\n    </tr>\n  </thead>\n  <tbody>\n    <tr>\n      <th>0</th>\n      <td>2021-06-24</td>\n      <td>US500</td>\n      <td>4266.49</td>\n      <td>4256.97</td>\n      <td>4271.28</td>\n      <td>4256.97</td>\n      <td>0.0</td>\n      <td>0.0058</td>\n      <td>NaN</td>\n    </tr>\n    <tr>\n      <th>1</th>\n      <td>2021-06-24</td>\n      <td>ZTS</td>\n      <td>185.38</td>\n      <td>186.30</td>\n      <td>187.34</td>\n      <td>185.00</td>\n      <td>1690000.0</td>\n      <td>-0.0040</td>\n      <td>4.749734e+08</td>\n    </tr>\n    <tr>\n      <th>2</th>\n      <td>2021-06-24</td>\n      <td>ZION</td>\n      <td>54.21</td>\n      <td>52.87</td>\n      <td>54.43</td>\n      <td>52.87</td>\n      <td>1350000.0</td>\n      <td>0.0201</td>\n      <td>1.638156e+08</td>\n    </tr>\n    <tr>\n      <th>3</th>\n      <td>2021-06-24</td>\n      <td>ZBH</td>\n      <td>164.39</td>\n      <td>165.04</td>\n      <td>165.37</td>\n      <td>163.62</td>\n      <td>1090000.0</td>\n      <td>-0.0005</td>\n      <td>2.084821e+08</td>\n    </tr>\n    <tr>\n      <th>4</th>\n      <td>2021-06-24</td>\n      <td>ZBRA</td>\n      <td>510.39</td>\n      <td>505.31</td>\n      <td>511.29</td>\n      <td>501.50</td>\n      <td>258470.0</td>\n      <td>0.0149</td>\n      <td>5.351126e+07</td>\n    </tr>\n    <tr>\n      <th>...</th>\n      <td>...</td>\n      <td>...</td>\n      <td>...</td>\n      <td>...</td>\n      <td>...</td>\n      <td>...</td>\n      <td>...</td>\n      <td>...</td>\n      <td>...</td>\n    </tr>\n    <tr>\n      <th>501</th>\n      <td>2021-06-24</td>\n      <td>ACN</td>\n      <td>291.56</td>\n      <td>297.15</td>\n      <td>297.35</td>\n      <td>289.66</td>\n      <td>3000000.0</td>\n      <td>0.0205</td>\n      <td>6.656357e+08</td>\n    </tr>\n    <tr>\n      <th>502</th>\n      <td>2021-06-24</td>\n      <td>ABMD</td>\n      <td>311.81</td>\n      <td>322.30</td>\n      <td>324.54</td>\n      <td>310.85</td>\n      <td>366780.0</td>\n      <td>-0.0307</td>\n      <td>4.529598e+07</td>\n    </tr>\n    <tr>\n      <th>503</th>\n      <td>2021-06-24</td>\n      <td>ABBV</td>\n      <td>114.74</td>\n      <td>114.32</td>\n      <td>116.18</td>\n      <td>114.30</td>\n      <td>7710000.0</td>\n      <td>0.0065</td>\n      <td>1.766222e+09</td>\n    </tr>\n    <tr>\n      <th>504</th>\n      <td>2021-06-24</td>\n      <td>ABT</td>\n      <td>111.70</td>\n      <td>111.41</td>\n      <td>113.47</td>\n      <td>111.41</td>\n      <td>9720000.0</td>\n      <td>0.0078</td>\n      <td>1.776820e+09</td>\n    </tr>\n    <tr>\n      <th>505</th>\n      <td>2021-06-24</td>\n      <td>MMM</td>\n      <td>193.26</td>\n      <td>193.39</td>\n      <td>193.74</td>\n      <td>191.64</td>\n      <td>2190000.0</td>\n      <td>0.0047</td>\n      <td>5.796750e+08</td>\n    </tr>\n  </tbody>\n</table>\n<p>506 rows × 9 columns</p>\n</div>"
     },
     "metadata": {},
     "execution_count": 12
    }
   ],
   "source": [
    "daily = pd.merge(dfs,us_stock_basedata, how='left', on='Symbol') # frd와 csv merge 작업 기준은 symbol로 잡아 왼쪽으로 정렬\n",
    "daily"
   ]
  },
  {
   "cell_type": "code",
   "execution_count": 13,
   "metadata": {},
   "outputs": [
    {
     "output_type": "execute_result",
     "data": {
      "text/plain": [
       "          Date Symbol    Close     Open     High      Low     Volume  Change  \\\n",
       "0   2021-06-24  US500  4266.49  4256.97  4271.28  4256.97        0.0  0.0058   \n",
       "1   2021-06-24    ZTS   185.38   186.30   187.34   185.00  1690000.0 -0.0040   \n",
       "2   2021-06-24   ZION    54.21    52.87    54.43    52.87  1350000.0  0.0201   \n",
       "3   2021-06-24    ZBH   164.39   165.04   165.37   163.62  1090000.0 -0.0005   \n",
       "4   2021-06-24   ZBRA   510.39   505.31   511.29   501.50   258470.0  0.0149   \n",
       "..         ...    ...      ...      ...      ...      ...        ...     ...   \n",
       "501 2021-06-24    ACN   291.56   297.15   297.35   289.66  3000000.0  0.0205   \n",
       "502 2021-06-24   ABMD   311.81   322.30   324.54   310.85   366780.0 -0.0307   \n",
       "503 2021-06-24   ABBV   114.74   114.32   116.18   114.30  7710000.0  0.0065   \n",
       "504 2021-06-24    ABT   111.70   111.41   113.47   111.41  9720000.0  0.0078   \n",
       "505 2021-06-24    MMM   193.26   193.39   193.74   191.64  2190000.0  0.0047   \n",
       "\n",
       "     amount to be registered  market capitalization  \n",
       "0                        NaN                    NaN  \n",
       "1               4.749734e+08           8.805057e+10  \n",
       "2               1.638156e+08           8.880444e+09  \n",
       "3               2.084821e+08           3.427237e+10  \n",
       "4               5.351126e+07           2.731161e+10  \n",
       "..                       ...                    ...  \n",
       "501             6.656357e+08           1.940728e+11  \n",
       "502             4.529598e+07           1.412374e+10  \n",
       "503             1.766222e+09           2.026564e+11  \n",
       "504             1.776820e+09           1.984708e+11  \n",
       "505             5.796750e+08           1.120280e+11  \n",
       "\n",
       "[506 rows x 10 columns]"
      ],
      "text/html": "<div>\n<style scoped>\n    .dataframe tbody tr th:only-of-type {\n        vertical-align: middle;\n    }\n\n    .dataframe tbody tr th {\n        vertical-align: top;\n    }\n\n    .dataframe thead th {\n        text-align: right;\n    }\n</style>\n<table border=\"1\" class=\"dataframe\">\n  <thead>\n    <tr style=\"text-align: right;\">\n      <th></th>\n      <th>Date</th>\n      <th>Symbol</th>\n      <th>Close</th>\n      <th>Open</th>\n      <th>High</th>\n      <th>Low</th>\n      <th>Volume</th>\n      <th>Change</th>\n      <th>amount to be registered</th>\n      <th>market capitalization</th>\n    </tr>\n  </thead>\n  <tbody>\n    <tr>\n      <th>0</th>\n      <td>2021-06-24</td>\n      <td>US500</td>\n      <td>4266.49</td>\n      <td>4256.97</td>\n      <td>4271.28</td>\n      <td>4256.97</td>\n      <td>0.0</td>\n      <td>0.0058</td>\n      <td>NaN</td>\n      <td>NaN</td>\n    </tr>\n    <tr>\n      <th>1</th>\n      <td>2021-06-24</td>\n      <td>ZTS</td>\n      <td>185.38</td>\n      <td>186.30</td>\n      <td>187.34</td>\n      <td>185.00</td>\n      <td>1690000.0</td>\n      <td>-0.0040</td>\n      <td>4.749734e+08</td>\n      <td>8.805057e+10</td>\n    </tr>\n    <tr>\n      <th>2</th>\n      <td>2021-06-24</td>\n      <td>ZION</td>\n      <td>54.21</td>\n      <td>52.87</td>\n      <td>54.43</td>\n      <td>52.87</td>\n      <td>1350000.0</td>\n      <td>0.0201</td>\n      <td>1.638156e+08</td>\n      <td>8.880444e+09</td>\n    </tr>\n    <tr>\n      <th>3</th>\n      <td>2021-06-24</td>\n      <td>ZBH</td>\n      <td>164.39</td>\n      <td>165.04</td>\n      <td>165.37</td>\n      <td>163.62</td>\n      <td>1090000.0</td>\n      <td>-0.0005</td>\n      <td>2.084821e+08</td>\n      <td>3.427237e+10</td>\n    </tr>\n    <tr>\n      <th>4</th>\n      <td>2021-06-24</td>\n      <td>ZBRA</td>\n      <td>510.39</td>\n      <td>505.31</td>\n      <td>511.29</td>\n      <td>501.50</td>\n      <td>258470.0</td>\n      <td>0.0149</td>\n      <td>5.351126e+07</td>\n      <td>2.731161e+10</td>\n    </tr>\n    <tr>\n      <th>...</th>\n      <td>...</td>\n      <td>...</td>\n      <td>...</td>\n      <td>...</td>\n      <td>...</td>\n      <td>...</td>\n      <td>...</td>\n      <td>...</td>\n      <td>...</td>\n      <td>...</td>\n    </tr>\n    <tr>\n      <th>501</th>\n      <td>2021-06-24</td>\n      <td>ACN</td>\n      <td>291.56</td>\n      <td>297.15</td>\n      <td>297.35</td>\n      <td>289.66</td>\n      <td>3000000.0</td>\n      <td>0.0205</td>\n      <td>6.656357e+08</td>\n      <td>1.940728e+11</td>\n    </tr>\n    <tr>\n      <th>502</th>\n      <td>2021-06-24</td>\n      <td>ABMD</td>\n      <td>311.81</td>\n      <td>322.30</td>\n      <td>324.54</td>\n      <td>310.85</td>\n      <td>366780.0</td>\n      <td>-0.0307</td>\n      <td>4.529598e+07</td>\n      <td>1.412374e+10</td>\n    </tr>\n    <tr>\n      <th>503</th>\n      <td>2021-06-24</td>\n      <td>ABBV</td>\n      <td>114.74</td>\n      <td>114.32</td>\n      <td>116.18</td>\n      <td>114.30</td>\n      <td>7710000.0</td>\n      <td>0.0065</td>\n      <td>1.766222e+09</td>\n      <td>2.026564e+11</td>\n    </tr>\n    <tr>\n      <th>504</th>\n      <td>2021-06-24</td>\n      <td>ABT</td>\n      <td>111.70</td>\n      <td>111.41</td>\n      <td>113.47</td>\n      <td>111.41</td>\n      <td>9720000.0</td>\n      <td>0.0078</td>\n      <td>1.776820e+09</td>\n      <td>1.984708e+11</td>\n    </tr>\n    <tr>\n      <th>505</th>\n      <td>2021-06-24</td>\n      <td>MMM</td>\n      <td>193.26</td>\n      <td>193.39</td>\n      <td>193.74</td>\n      <td>191.64</td>\n      <td>2190000.0</td>\n      <td>0.0047</td>\n      <td>5.796750e+08</td>\n      <td>1.120280e+11</td>\n    </tr>\n  </tbody>\n</table>\n<p>506 rows × 10 columns</p>\n</div>"
     },
     "metadata": {},
     "execution_count": 13
    }
   ],
   "source": [
    "daily[\"market capitalization\"] = daily[\"Close\"]*daily[\"amount to be registered\"]\n",
    "daily"
   ]
  },
  {
   "cell_type": "code",
   "execution_count": 14,
   "id": "c319356e",
   "metadata": {},
   "outputs": [],
   "source": [
    "daily.to_csv('daily_210624.csv')"
   ]
  },
  {
   "cell_type": "code",
   "execution_count": null,
   "metadata": {},
   "outputs": [],
   "source": []
  }
 ],
 "metadata": {
  "kernelspec": {
   "name": "python3",
   "display_name": "Python 3.7.10 64-bit ('jiyoung': conda)"
  },
  "language_info": {
   "codemirror_mode": {
    "name": "ipython",
    "version": 3
   },
   "file_extension": ".py",
   "mimetype": "text/x-python",
   "name": "python",
   "nbconvert_exporter": "python",
   "pygments_lexer": "ipython3",
   "version": "3.7.10"
  },
  "toc": {
   "base_numbering": 1,
   "nav_menu": {},
   "number_sections": true,
   "sideBar": true,
   "skip_h1_title": false,
   "title_cell": "Table of Contents",
   "title_sidebar": "Contents",
   "toc_cell": false,
   "toc_position": {},
   "toc_section_display": true,
   "toc_window_display": false
  },
  "interpreter": {
   "hash": "526b176a0f038ddd3acedc06790ee8fd115bccf47f28bdd841c8918b52fe6e25"
  }
 },
 "nbformat": 4,
 "nbformat_minor": 5
}