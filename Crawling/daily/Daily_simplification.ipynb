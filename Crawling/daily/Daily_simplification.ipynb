{
 "cells": [
  {
   "cell_type": "code",
   "execution_count": 1,
   "metadata": {},
   "outputs": [],
   "source": [
    "import pandas as pd\n",
    "import FinanceDataReader as fdr\n",
    "import numpy as np\n",
    "from datetime import datetime, timedelta\n",
    "import time"
   ]
  },
  {
   "cell_type": "code",
   "execution_count": 49,
   "metadata": {
    "scrolled": true
   },
   "outputs": [
    {
     "ename": "NameError",
     "evalue": "name 'daily' is not defined",
     "output_type": "error",
     "traceback": [
      "\u001b[1;31m---------------------------------------------------------------------------\u001b[0m",
      "\u001b[1;31mNameError\u001b[0m                                 Traceback (most recent call last)",
      "\u001b[1;32m<ipython-input-49-235fbdf3a600>\u001b[0m in \u001b[0;36m<module>\u001b[1;34m\u001b[0m\n\u001b[0;32m     12\u001b[0m \u001b[1;33m\u001b[0m\u001b[0m\n\u001b[0;32m     13\u001b[0m \u001b[0mdfs\u001b[0m \u001b[1;33m=\u001b[0m \u001b[0mdfs\u001b[0m\u001b[1;33m[\u001b[0m\u001b[1;33m[\u001b[0m\u001b[1;34m'Symbol'\u001b[0m\u001b[1;33m,\u001b[0m \u001b[1;34m\"Open\"\u001b[0m\u001b[1;33m,\u001b[0m \u001b[1;34m'Close'\u001b[0m\u001b[1;33m,\u001b[0m \u001b[1;34m\"High\"\u001b[0m\u001b[1;33m,\u001b[0m \u001b[1;34m\"Low\"\u001b[0m\u001b[1;33m,\u001b[0m \u001b[1;34m\"Volume\"\u001b[0m\u001b[1;33m,\u001b[0m \u001b[1;34m\"Change\"\u001b[0m\u001b[1;33m,\u001b[0m \u001b[1;34m\"amount to be registered\"\u001b[0m\u001b[1;33m]\u001b[0m\u001b[1;33m]\u001b[0m\u001b[1;33m\u001b[0m\u001b[1;33m\u001b[0m\u001b[0m\n\u001b[1;32m---> 14\u001b[1;33m \u001b[0mdaily\u001b[0m\u001b[1;33m[\u001b[0m\u001b[1;34m\"market capitalization\"\u001b[0m\u001b[1;33m]\u001b[0m \u001b[1;33m=\u001b[0m \u001b[0mdaily\u001b[0m\u001b[1;33m[\u001b[0m\u001b[1;34m\"Close\"\u001b[0m\u001b[1;33m]\u001b[0m\u001b[1;33m*\u001b[0m\u001b[0mdaily\u001b[0m\u001b[1;33m[\u001b[0m\u001b[1;34m\"amount to be registered\"\u001b[0m\u001b[1;33m]\u001b[0m\u001b[1;33m\u001b[0m\u001b[1;33m\u001b[0m\u001b[0m\n\u001b[0m\u001b[0;32m     15\u001b[0m \u001b[0mdfs\u001b[0m \u001b[1;33m=\u001b[0m \u001b[0mdfs\u001b[0m\u001b[1;33m.\u001b[0m\u001b[0mreset_index\u001b[0m\u001b[1;33m(\u001b[0m\u001b[1;33m)\u001b[0m \u001b[1;31m# reset_index()를 사용해 date column에 위치하게 정렬\u001b[0m\u001b[1;33m\u001b[0m\u001b[1;33m\u001b[0m\u001b[0m\n",
      "\u001b[1;31mNameError\u001b[0m: name 'daily' is not defined"
     ]
    }
   ],
   "source": [
    "yesterday = datetime.today() - timedelta(1)\n",
    "\n",
    "dfs = fdr.DataReader(\"US500\",yesterday) # fdr 기존 양식에 symbol_list를 추가하기 위해 base_table 생성\n",
    "dfs['Symbol'] = \"S&P500\"\n",
    "\n",
    "us_stock_basedata = pd.read_csv('./amount_to_be registered.csv')\n",
    "\n",
    "for value in us_stock_basedata.values: # apple data frame에 symbol_list 추가작업 진행\n",
    "    data = fdr.DataReader(value[0], yesterday)\n",
    "    data['Symbol'], data['amount to be registered'] = value[0], value[1]\n",
    "    dfs = pd.concat([dfs,data])\n",
    "\n",
    "dfs = dfs[['Symbol', \"Open\", 'Close', \"High\", \"Low\", \"Volume\", \"Change\", \"amount to be registered\"]]\n",
    "dfs[\"market capitalization\"] = dfs[\"Close\"]*dfs[\"amount to be registered\"]\n",
    "dfs = dfs.reset_index() # reset_index()를 사용해 date column에 위치하게 정렬"
   ]
  },
  {
   "cell_type": "code",
   "execution_count": null,
   "metadata": {},
   "outputs": [],
   "source": []
  },
  {
   "cell_type": "code",
   "execution_count": null,
   "metadata": {},
   "outputs": [],
   "source": []
  },
  {
   "cell_type": "code",
   "execution_count": 2,
   "metadata": {},
   "outputs": [],
   "source": [
    "symbol_list = [\"MMM\",\"ABT\",\"ABBV\",\"ABMD\",\"ACN\",\"ATVI\",\"ADBE\",\"AMD\",\"AAP\",\\\n",
    "               \"AES\",\"AFL\",\"A\",\"APD\",\"AKAM\",\"ALK\",\"ALB\",\"ARE\",\"ALXN\",\"ALGN\",\\\n",
    "               \"ALLE\",\"LNT\",\"ALL\",\"GOOGL\",\"GOOG\",\"MO\",\"AMZN\",\"AMCR\",\"AEE\",\"AAL\",\\\n",
    "               \"AEP\",\"AXP\",\"AIG\",\"AMT\",\"AWK\",\"AMP\",\"ABC\",\"AME\",\"AMGN\",\"APH\",\"ADI\",\\\n",
    "               \"ANSS\",\"ANTM\",\"AON\",\"AOS\",\"APA\",\"AAPL\",\"AMAT\",\"APTV\",\"ADM\",\"ANET\",\"AJG\",\\\n",
    "               \"AIZ\",\"T\",\"ATO\",\"ADSK\",\"ADP\",\"AZO\",\"AVB\",\"AVY\",\"BKR\",\"BLL\",\"BAC\",\"BK\",\"BAX\",\\\n",
    "               \"BDX\",\"BRKB\",\"BBY\",\"BIO\",\"BIIB\",\"BLK\",\"BA\",\"BKNG\",\"BWA\",\"BXP\",\"BSX\",\"BMY\",\"AVGO\",\\\n",
    "               \"BR\",\"BFB\",\"CHRW\",\"COG\",\"CDNS\",\"CZR\",\"CPB\",\"COF\",\"CAH\",\"KMX\",\"CCL\",\"CARR\",\"CTLT\",\"CAT\"\\\n",
    "               ,\"CBOE\",\"CBRE\",\"CDW\",\"CE\",\"CNC\",\"CNP\",\"CERN\",\"CF\",\"CRL\",\"SCHW\",\"CHTR\",\"CVX\",\"CMG\",\"CB\",\"CHD\",\\\n",
    "               \"CI\",\"CINF\",\"CTAS\",\"CSCO\",\"C\",\"CFG\",\"CTXS\",\"CLX\",\"CME\",\"CMS\",\"KO\",\"CTSH\",\"CL\",\"CMCSA\",\"CMA\",\"CAG\",\\\n",
    "               \"COP\",\"ED\",\"STZ\",\"COO\",\"CPRT\",\"GLW\",\"CTVA\",\"COST\",\"CCI\",\"CSX\",\"CMI\",\"CVS\",\"DHI\",\"DHR\",\"DRI\",\"DVA\",\"DE\",\\\n",
    "               \"DAL\",\"XRAY\",\"DVN\",\"DXCM\",\"FANG\",\"DLR\",\"DFS\",\"DISCA\",\"DISCK\",\"DISH\",\"DG\",\"DLTR\",\"D\",\"DPZ\",\"DOV\",\"DOW\",\"DTE\",\\\n",
    "               \"DUK\",\"DRE\",\"DD\",\"DXC\",\"EMN\",\"ETN\",\"EBAY\",\"ECL\",\"EIX\",\"EW\",\"EA\",\"EMR\",\"ENPH\",\"ETR\",\"EOG\",\"EFX\",\"EQIX\",\"EQR\",\"ESS\",\\\n",
    "               \"EL\",\"ETSY\",\"EVRG\",\"ES\",\"RE\",\"EXC\",\"EXPE\",\"EXPD\",\"EXR\",\"XOM\",\"FFIV\",\"FB\",\"FAST\",\"FRT\",\"FDX\",\"FIS\",\"FITB\",\"FE\",\"FRC\",\\\n",
    "               \"FISV\",\"FLT\",\"FMC\",\"F\",\"FTNT\",\"FTV\",\"FBHS\",\"FOXA\",\"FOX\",\"BEN\",\"FCX\",\"GPS\",\"GRMN\",\"IT\",\"GNRC\",\"GD\",\"GE\",\"GIS\",\"GM\",\"GPC\",\\\n",
    "               \"GILD\",\"GL\",\"GPN\",\"GS\",\"GWW\",\"HAL\",\"HBI\",\"HIG\",\"HAS\",\"HCA\",\"PEAK\",\"HSIC\",\"HSY\",\"HES\",\"HPE\",\"HLT\",\"HFC\",\"HOLX\",\"HD\",\"HON\",\\\n",
    "               \"HRL\",\"HST\",\"HWM\",\"HPQ\",\"HUM\",\"HBAN\",\"HII\",\"IEX\",\"IDXX\",\"INFO\",\"ITW\",\"ILMN\",\"INCY\",\"IR\",\"INTC\",\"ICE\",\"IBM\",\"IP\",\"IPG\",\"IFF\",\\\n",
    "               \"INTU\",\"ISRG\",\"IVZ\",\"IPGP\",\"IQV\",\"IRM\",\"JKHY\",\"J\",\"JBHT\",\"SJM\",\"JNJ\",\"JCI\",\"JPM\",\"JNPR\",\"KSU\",\"K\",\"KEY\",\"KEYS\",\"KMB\",\"KIM\",\"KMI\",\\\n",
    "               \"KLAC\",\"KHC\",\"KR\",\"LB\",\"LHX\",\"LH\",\"LRCX\",\"LW\",\"LVS\",\"LEG\",\"LDOS\",\"LEN\",\"LLY\",\"LNC\",\"LIN\",\"LYV\",\"LKQ\",\"LMT\",\"L\",\"LOW\",\"LUMN\",\"LYB\",\\\n",
    "               \"MTB\",\"MRO\",\"MPC\",\"MKTX\",\"MAR\",\"MMC\",\"MLM\",\"MAS\",\"MA\",\"MKC\",\"MXIM\",\"MCD\",\"MCK\",\"MDT\",\"MRK\",\"MET\",\"MTD\",\"MGM\",\"MCHP\",\"MU\",\"MSFT\",\"MAA\",\\\n",
    "               \"MHK\",\"TAP\",\"MDLZ\",\"MPWR\",\"MNST\",\"MCO\",\"MS\",\"MOS\",\"MSI\",\"MSCI\",\"NDAQ\",\"NTAP\",\"NFLX\",\"NWL\",\"NEM\",\"NWSA\",\"NWS\",\"NEE\",\"NLSN\",\"NKE\",\"NI\",\"NSC\",\\\n",
    "               \"NTRS\",\"NOC\",\"NLOK\",\"NCLH\",\"NOV\",\"NRG\",\"NUE\",\"NVDA\",\"NVR\",\"NXPI\",\"ORLY\",\"OXY\",\"ODFL\",\"OMC\",\"OKE\",\"ORCL\",\"OTIS\",\"PCAR\",\"PKG\",\"PH\",\"PAYX\",\"PAYC\",\\\n",
    "               \"PYPL\",\"PENN\",\"PNR\",\"PBCT\",\"PEP\",\"PKI\",\"PRGO\",\"PFE\",\"PM\",\"PSX\",\"PNW\",\"PXD\",\"PNC\",\"POOL\",\"PPG\",\"PPL\",\"PFG\",\"PG\",\"PGR\",\"PLD\",\"PRU\",\"PTC\",\"PEG\",\"PSA\",\\\n",
    "               \"PHM\",\"PVH\",\"QRVO\",\"PWR\",\"QCOM\",\"DGX\",\"RL\",\"RJF\",\"RTX\",\"O\",\"REG\",\"REGN\",\"RF\",\"RSG\",\"RMD\",\"RHI\",\"ROK\",\"ROL\",\"ROP\",\"ROST\",\"RCL\",\"SPGI\",\"CRM\",\"SBAC\",\\\n",
    "               \"SLB\",\"STX\",\"SEE\",\"SRE\",\"NOW\",\"SHW\",\"SPG\",\"SWKS\",\"SNA\",\"SO\",\"LUV\",\"SWK\",\"SBUX\",\"STT\",\"STE\",\"SYK\",\"SIVB\",\"SYF\",\"SNPS\",\"SYY\",\"TMUS\",\"TROW\",\"TTWO\",\"TPR\",\\\n",
    "               \"TGT\",\"TEL\",\"TDY\",\"TFX\",\"TER\",\"TSLA\",\"TXN\",\"TXT\",\"TMO\",\"TJX\",\"TSCO\",\"TT\",\"TDG\",\"TRV\",\"TRMB\",\"TFC\",\"TWTR\",\"TYL\",\"TSN\",\"UDR\",\"ULTA\",\"USB\",\"UAA\",\"UA\",\"UNP\",\\\n",
    "               \"UAL\",\"UNH\",\"UPS\",\"URI\",\"UHS\",\"UNM\",\"VLO\",\"VTR\",\"VRSN\",\"VRSK\",\"VZ\",\"VRTX\",\"VFC\",\"VIAC\",\"VTRS\",\"V\",\"VNO\",\"VMC\",\"WRB\",\"WAB\",\"WMT\",\"WBA\",\"DIS\",\"WM\",\"WAT\",\"WEC\",\\\n",
    "               \"WFC\",\"WELL\",\"WST\",\"WDC\",\"WU\",\"WRK\",\"WY\",\"WHR\",\"WMB\",\"WLTW\",\"WYNN\",\"XEL\",\"XLNX\",\"XYL\",\"YUM\",\"ZBRA\",\"ZBH\",\"ZION\",\"ZTS\",\"US500\"]"
   ]
  },
  {
   "cell_type": "code",
   "execution_count": 14,
   "metadata": {},
   "outputs": [],
   "source": [
    "dfs.to_csv('daily_210624.csv')"
   ]
  },
  {
   "cell_type": "code",
   "execution_count": null,
   "metadata": {},
   "outputs": [],
   "source": []
  }
 ],
 "metadata": {
  "interpreter": {
   "hash": "526b176a0f038ddd3acedc06790ee8fd115bccf47f28bdd841c8918b52fe6e25"
  },
  "kernelspec": {
   "display_name": "Python 3",
   "language": "python",
   "name": "python3"
  },
  "language_info": {
   "codemirror_mode": {
    "name": "ipython",
    "version": 3
   },
   "file_extension": ".py",
   "mimetype": "text/x-python",
   "name": "python",
   "nbconvert_exporter": "python",
   "pygments_lexer": "ipython3",
   "version": "3.8.5"
  },
  "toc": {
   "base_numbering": 1,
   "nav_menu": {},
   "number_sections": true,
   "sideBar": true,
   "skip_h1_title": false,
   "title_cell": "Table of Contents",
   "title_sidebar": "Contents",
   "toc_cell": false,
   "toc_position": {},
   "toc_section_display": true,
   "toc_window_display": false
  }
 },
 "nbformat": 4,
 "nbformat_minor": 5
}
