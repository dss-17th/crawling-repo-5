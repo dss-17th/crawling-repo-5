{
 "cells": [
  {
   "cell_type": "code",
   "execution_count": 27,
   "id": "f005ecf4",
   "metadata": {},
   "outputs": [],
   "source": [
    "import pandas as pd\n",
    "import FinanceDataReader as fdr\n",
    "import numpy as np\n",
    "from datetime import datetime, timedelta\n",
    "import time"
   ]
  },
  {
   "cell_type": "code",
   "execution_count": 23,
   "id": "59de2ac3",
   "metadata": {},
   "outputs": [],
   "source": [
    "df_sp500 = fdr.StockListing('sp500') # fdr에서 제공하는 s&p500 기업 정보 출력"
   ]
  },
  {
   "cell_type": "code",
   "execution_count": 28,
   "metadata": {},
   "outputs": [
    {
     "output_type": "execute_result",
     "data": {
      "text/plain": [
       "    Symbol                 Name                  Sector  \\\n",
       "0      MMM                   3M             Industrials   \n",
       "1      ABT  Abbott Laboratories             Health Care   \n",
       "2     ABBV               AbbVie             Health Care   \n",
       "3     ABMD              Abiomed             Health Care   \n",
       "4      ACN            Accenture  Information Technology   \n",
       "..     ...                  ...                     ...   \n",
       "501   ZBRA   Zebra Technologies  Information Technology   \n",
       "502    ZBH        Zimmer Biomet             Health Care   \n",
       "503   ZION        Zions Bancorp              Financials   \n",
       "504    ZTS               Zoetis             Health Care   \n",
       "505  US500               S&P500                    None   \n",
       "\n",
       "                               Industry  \n",
       "0              Industrial Conglomerates  \n",
       "1                 Health Care Equipment  \n",
       "2                       Pharmaceuticals  \n",
       "3                 Health Care Equipment  \n",
       "4        IT Consulting & Other Services  \n",
       "..                                  ...  \n",
       "501  Electronic Equipment & Instruments  \n",
       "502               Health Care Equipment  \n",
       "503                      Regional Banks  \n",
       "504                     Pharmaceuticals  \n",
       "505                                None  \n",
       "\n",
       "[506 rows x 4 columns]"
      ],
      "text/html": "<div>\n<style scoped>\n    .dataframe tbody tr th:only-of-type {\n        vertical-align: middle;\n    }\n\n    .dataframe tbody tr th {\n        vertical-align: top;\n    }\n\n    .dataframe thead th {\n        text-align: right;\n    }\n</style>\n<table border=\"1\" class=\"dataframe\">\n  <thead>\n    <tr style=\"text-align: right;\">\n      <th></th>\n      <th>Symbol</th>\n      <th>Name</th>\n      <th>Sector</th>\n      <th>Industry</th>\n    </tr>\n  </thead>\n  <tbody>\n    <tr>\n      <th>0</th>\n      <td>MMM</td>\n      <td>3M</td>\n      <td>Industrials</td>\n      <td>Industrial Conglomerates</td>\n    </tr>\n    <tr>\n      <th>1</th>\n      <td>ABT</td>\n      <td>Abbott Laboratories</td>\n      <td>Health Care</td>\n      <td>Health Care Equipment</td>\n    </tr>\n    <tr>\n      <th>2</th>\n      <td>ABBV</td>\n      <td>AbbVie</td>\n      <td>Health Care</td>\n      <td>Pharmaceuticals</td>\n    </tr>\n    <tr>\n      <th>3</th>\n      <td>ABMD</td>\n      <td>Abiomed</td>\n      <td>Health Care</td>\n      <td>Health Care Equipment</td>\n    </tr>\n    <tr>\n      <th>4</th>\n      <td>ACN</td>\n      <td>Accenture</td>\n      <td>Information Technology</td>\n      <td>IT Consulting &amp; Other Services</td>\n    </tr>\n    <tr>\n      <th>...</th>\n      <td>...</td>\n      <td>...</td>\n      <td>...</td>\n      <td>...</td>\n    </tr>\n    <tr>\n      <th>501</th>\n      <td>ZBRA</td>\n      <td>Zebra Technologies</td>\n      <td>Information Technology</td>\n      <td>Electronic Equipment &amp; Instruments</td>\n    </tr>\n    <tr>\n      <th>502</th>\n      <td>ZBH</td>\n      <td>Zimmer Biomet</td>\n      <td>Health Care</td>\n      <td>Health Care Equipment</td>\n    </tr>\n    <tr>\n      <th>503</th>\n      <td>ZION</td>\n      <td>Zions Bancorp</td>\n      <td>Financials</td>\n      <td>Regional Banks</td>\n    </tr>\n    <tr>\n      <th>504</th>\n      <td>ZTS</td>\n      <td>Zoetis</td>\n      <td>Health Care</td>\n      <td>Pharmaceuticals</td>\n    </tr>\n    <tr>\n      <th>505</th>\n      <td>US500</td>\n      <td>S&amp;P500</td>\n      <td>None</td>\n      <td>None</td>\n    </tr>\n  </tbody>\n</table>\n<p>506 rows × 4 columns</p>\n</div>"
     },
     "metadata": {},
     "execution_count": 28
    }
   ],
   "source": [
    "df_sp500.loc[505] = ['US500',\"S&P500\",\"None\",\"None\"]\n",
    "df_sp500"
   ]
  },
  {
   "cell_type": "code",
   "execution_count": 29,
   "id": "98a40f9d",
   "metadata": {},
   "outputs": [
    {
     "output_type": "execute_result",
     "data": {
      "text/plain": [
       "    Symbol  Founded Date first added    Headquarters Location\n",
       "0      MMM     1902         1976.8.9      St. Paul, Minnesota\n",
       "1      ABT     1888        1964.3.31  North Chicago, Illinois\n",
       "2     ABBV     2013       2012.12.31  North Chicago, Illinois\n",
       "3     ABMD     1981        2018.5.31   Danvers, Massachusetts\n",
       "4      ACN     1989         2011.7.6          Dublin, Ireland\n",
       "..     ...      ...              ...                      ...\n",
       "501   ZBRA     1969       2019.12.23   Lincolnshire, Illinois\n",
       "502    ZBH     1927         2001.8.7          Warsaw, Indiana\n",
       "503   ZION     1873        2001.6.22     Salt Lake City, Utah\n",
       "504    ZTS     1952        2013.6.21   Parsippany, New Jersey\n",
       "505  US500     1957        1957.2.27       New York, New York\n",
       "\n",
       "[506 rows x 4 columns]"
      ],
      "text/html": "<div>\n<style scoped>\n    .dataframe tbody tr th:only-of-type {\n        vertical-align: middle;\n    }\n\n    .dataframe tbody tr th {\n        vertical-align: top;\n    }\n\n    .dataframe thead th {\n        text-align: right;\n    }\n</style>\n<table border=\"1\" class=\"dataframe\">\n  <thead>\n    <tr style=\"text-align: right;\">\n      <th></th>\n      <th>Symbol</th>\n      <th>Founded</th>\n      <th>Date first added</th>\n      <th>Headquarters Location</th>\n    </tr>\n  </thead>\n  <tbody>\n    <tr>\n      <th>0</th>\n      <td>MMM</td>\n      <td>1902</td>\n      <td>1976.8.9</td>\n      <td>St. Paul, Minnesota</td>\n    </tr>\n    <tr>\n      <th>1</th>\n      <td>ABT</td>\n      <td>1888</td>\n      <td>1964.3.31</td>\n      <td>North Chicago, Illinois</td>\n    </tr>\n    <tr>\n      <th>2</th>\n      <td>ABBV</td>\n      <td>2013</td>\n      <td>2012.12.31</td>\n      <td>North Chicago, Illinois</td>\n    </tr>\n    <tr>\n      <th>3</th>\n      <td>ABMD</td>\n      <td>1981</td>\n      <td>2018.5.31</td>\n      <td>Danvers, Massachusetts</td>\n    </tr>\n    <tr>\n      <th>4</th>\n      <td>ACN</td>\n      <td>1989</td>\n      <td>2011.7.6</td>\n      <td>Dublin, Ireland</td>\n    </tr>\n    <tr>\n      <th>...</th>\n      <td>...</td>\n      <td>...</td>\n      <td>...</td>\n      <td>...</td>\n    </tr>\n    <tr>\n      <th>501</th>\n      <td>ZBRA</td>\n      <td>1969</td>\n      <td>2019.12.23</td>\n      <td>Lincolnshire, Illinois</td>\n    </tr>\n    <tr>\n      <th>502</th>\n      <td>ZBH</td>\n      <td>1927</td>\n      <td>2001.8.7</td>\n      <td>Warsaw, Indiana</td>\n    </tr>\n    <tr>\n      <th>503</th>\n      <td>ZION</td>\n      <td>1873</td>\n      <td>2001.6.22</td>\n      <td>Salt Lake City, Utah</td>\n    </tr>\n    <tr>\n      <th>504</th>\n      <td>ZTS</td>\n      <td>1952</td>\n      <td>2013.6.21</td>\n      <td>Parsippany, New Jersey</td>\n    </tr>\n    <tr>\n      <th>505</th>\n      <td>US500</td>\n      <td>1957</td>\n      <td>1957.2.27</td>\n      <td>New York, New York</td>\n    </tr>\n  </tbody>\n</table>\n<p>506 rows × 4 columns</p>\n</div>"
     },
     "metadata": {},
     "execution_count": 29
    }
   ],
   "source": [
    "us_stock_basedata = pd.read_csv('./us_stock_basedata.csv') # frd에 없는 data csv로 import\n",
    "us_stock_basedata"
   ]
  },
  {
   "cell_type": "code",
   "execution_count": 30,
   "id": "f771469a",
   "metadata": {},
   "outputs": [
    {
     "output_type": "execute_result",
     "data": {
      "text/plain": [
       "    Symbol                 Name                  Sector  \\\n",
       "0      MMM                   3M             Industrials   \n",
       "1      ABT  Abbott Laboratories             Health Care   \n",
       "2     ABBV               AbbVie             Health Care   \n",
       "3     ABMD              Abiomed             Health Care   \n",
       "4      ACN            Accenture  Information Technology   \n",
       "..     ...                  ...                     ...   \n",
       "501   ZBRA   Zebra Technologies  Information Technology   \n",
       "502    ZBH        Zimmer Biomet             Health Care   \n",
       "503   ZION        Zions Bancorp              Financials   \n",
       "504    ZTS               Zoetis             Health Care   \n",
       "505  US500               S&P500                    None   \n",
       "\n",
       "                               Industry  Founded Date first added  \\\n",
       "0              Industrial Conglomerates   1902.0         1976.8.9   \n",
       "1                 Health Care Equipment   1888.0        1964.3.31   \n",
       "2                       Pharmaceuticals   2013.0       2012.12.31   \n",
       "3                 Health Care Equipment   1981.0        2018.5.31   \n",
       "4        IT Consulting & Other Services   1989.0         2011.7.6   \n",
       "..                                  ...      ...              ...   \n",
       "501  Electronic Equipment & Instruments   1969.0       2019.12.23   \n",
       "502               Health Care Equipment   1927.0         2001.8.7   \n",
       "503                      Regional Banks   1873.0        2001.6.22   \n",
       "504                     Pharmaceuticals   1952.0        2013.6.21   \n",
       "505                                None   1957.0        1957.2.27   \n",
       "\n",
       "       Headquarters Location  \n",
       "0        St. Paul, Minnesota  \n",
       "1    North Chicago, Illinois  \n",
       "2    North Chicago, Illinois  \n",
       "3     Danvers, Massachusetts  \n",
       "4            Dublin, Ireland  \n",
       "..                       ...  \n",
       "501   Lincolnshire, Illinois  \n",
       "502          Warsaw, Indiana  \n",
       "503     Salt Lake City, Utah  \n",
       "504   Parsippany, New Jersey  \n",
       "505       New York, New York  \n",
       "\n",
       "[506 rows x 7 columns]"
      ],
      "text/html": "<div>\n<style scoped>\n    .dataframe tbody tr th:only-of-type {\n        vertical-align: middle;\n    }\n\n    .dataframe tbody tr th {\n        vertical-align: top;\n    }\n\n    .dataframe thead th {\n        text-align: right;\n    }\n</style>\n<table border=\"1\" class=\"dataframe\">\n  <thead>\n    <tr style=\"text-align: right;\">\n      <th></th>\n      <th>Symbol</th>\n      <th>Name</th>\n      <th>Sector</th>\n      <th>Industry</th>\n      <th>Founded</th>\n      <th>Date first added</th>\n      <th>Headquarters Location</th>\n    </tr>\n  </thead>\n  <tbody>\n    <tr>\n      <th>0</th>\n      <td>MMM</td>\n      <td>3M</td>\n      <td>Industrials</td>\n      <td>Industrial Conglomerates</td>\n      <td>1902.0</td>\n      <td>1976.8.9</td>\n      <td>St. Paul, Minnesota</td>\n    </tr>\n    <tr>\n      <th>1</th>\n      <td>ABT</td>\n      <td>Abbott Laboratories</td>\n      <td>Health Care</td>\n      <td>Health Care Equipment</td>\n      <td>1888.0</td>\n      <td>1964.3.31</td>\n      <td>North Chicago, Illinois</td>\n    </tr>\n    <tr>\n      <th>2</th>\n      <td>ABBV</td>\n      <td>AbbVie</td>\n      <td>Health Care</td>\n      <td>Pharmaceuticals</td>\n      <td>2013.0</td>\n      <td>2012.12.31</td>\n      <td>North Chicago, Illinois</td>\n    </tr>\n    <tr>\n      <th>3</th>\n      <td>ABMD</td>\n      <td>Abiomed</td>\n      <td>Health Care</td>\n      <td>Health Care Equipment</td>\n      <td>1981.0</td>\n      <td>2018.5.31</td>\n      <td>Danvers, Massachusetts</td>\n    </tr>\n    <tr>\n      <th>4</th>\n      <td>ACN</td>\n      <td>Accenture</td>\n      <td>Information Technology</td>\n      <td>IT Consulting &amp; Other Services</td>\n      <td>1989.0</td>\n      <td>2011.7.6</td>\n      <td>Dublin, Ireland</td>\n    </tr>\n    <tr>\n      <th>...</th>\n      <td>...</td>\n      <td>...</td>\n      <td>...</td>\n      <td>...</td>\n      <td>...</td>\n      <td>...</td>\n      <td>...</td>\n    </tr>\n    <tr>\n      <th>501</th>\n      <td>ZBRA</td>\n      <td>Zebra Technologies</td>\n      <td>Information Technology</td>\n      <td>Electronic Equipment &amp; Instruments</td>\n      <td>1969.0</td>\n      <td>2019.12.23</td>\n      <td>Lincolnshire, Illinois</td>\n    </tr>\n    <tr>\n      <th>502</th>\n      <td>ZBH</td>\n      <td>Zimmer Biomet</td>\n      <td>Health Care</td>\n      <td>Health Care Equipment</td>\n      <td>1927.0</td>\n      <td>2001.8.7</td>\n      <td>Warsaw, Indiana</td>\n    </tr>\n    <tr>\n      <th>503</th>\n      <td>ZION</td>\n      <td>Zions Bancorp</td>\n      <td>Financials</td>\n      <td>Regional Banks</td>\n      <td>1873.0</td>\n      <td>2001.6.22</td>\n      <td>Salt Lake City, Utah</td>\n    </tr>\n    <tr>\n      <th>504</th>\n      <td>ZTS</td>\n      <td>Zoetis</td>\n      <td>Health Care</td>\n      <td>Pharmaceuticals</td>\n      <td>1952.0</td>\n      <td>2013.6.21</td>\n      <td>Parsippany, New Jersey</td>\n    </tr>\n    <tr>\n      <th>505</th>\n      <td>US500</td>\n      <td>S&amp;P500</td>\n      <td>None</td>\n      <td>None</td>\n      <td>1957.0</td>\n      <td>1957.2.27</td>\n      <td>New York, New York</td>\n    </tr>\n  </tbody>\n</table>\n<p>506 rows × 7 columns</p>\n</div>"
     },
     "metadata": {},
     "execution_count": 30
    }
   ],
   "source": [
    "company = pd.merge(df_sp500,us_stock_basedata, how='left', on='Symbol') # frd와 csv merge 작업 기준은 symbol로 잡아 왼쪽으로 정렬\n",
    "company"
   ]
  },
  {
   "cell_type": "code",
   "execution_count": 31,
   "id": "c319356e",
   "metadata": {},
   "outputs": [],
   "source": [
    "company.to_csv('company_210624.csv')"
   ]
  },
  {
   "cell_type": "code",
   "execution_count": null,
   "metadata": {},
   "outputs": [],
   "source": []
  }
 ],
 "metadata": {
  "kernelspec": {
   "name": "python3",
   "display_name": "Python 3.7.10 64-bit ('jiyoung': conda)"
  },
  "language_info": {
   "codemirror_mode": {
    "name": "ipython",
    "version": 3
   },
   "file_extension": ".py",
   "mimetype": "text/x-python",
   "name": "python",
   "nbconvert_exporter": "python",
   "pygments_lexer": "ipython3",
   "version": "3.7.10"
  },
  "toc": {
   "base_numbering": 1,
   "nav_menu": {},
   "number_sections": true,
   "sideBar": true,
   "skip_h1_title": false,
   "title_cell": "Table of Contents",
   "title_sidebar": "Contents",
   "toc_cell": false,
   "toc_position": {},
   "toc_section_display": true,
   "toc_window_display": false
  },
  "interpreter": {
   "hash": "526b176a0f038ddd3acedc06790ee8fd115bccf47f28bdd841c8918b52fe6e25"
  }
 },
 "nbformat": 4,
 "nbformat_minor": 5
}