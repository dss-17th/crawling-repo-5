{
 "cells": [
  {
   "cell_type": "code",
   "execution_count": 2,
   "metadata": {},
   "outputs": [],
   "source": [
    "import pandas as pd\n",
    "import pymysql\n",
    "pymysql.install_as_MySQLdb()\n",
    "import MySQLdb\n",
    "from sqlalchemy import create_engine\n",
    "from sqlalchemy.ext.declarative import declarative_base\n",
    "from sqlalchemy.orm import sessionmaker\n",
    "import warnings     \n",
    "warnings.filterwarnings(action='ignore')    \n",
    "import user\n",
    "\n"
   ]
  },
  {
   "cell_type": "code",
   "execution_count": 4,
   "metadata": {},
   "outputs": [],
   "source": [
    "#1. mysqldb 접속객체 세팅(연결하기)\n",
    "connect_datas = {\n",
    "    'host': user.host,\n",
    "    'user': user.user,\n",
    "    'passwd': user.pw,\n",
    "    'db': user.db,\n",
    "    'charset': 'utf8'\n",
    "}\n",
    "db = MySQLdb.connect(**connect_datas) \n"
   ]
  },
  {
   "cell_type": "code",
   "execution_count": 6,
   "metadata": {},
   "outputs": [],
   "source": [
    "#2. 주가데이터 csv파일 불러오기\n",
    "news = pd.read_csv('../datas/investing_news.csv')\n",
    "investing_cr = pd.read_csv('../datas/crawling_investing.csv')"
   ]
  },
  {
   "cell_type": "code",
   "execution_count": 11,
   "metadata": {},
   "outputs": [],
   "source": [
    "news.columns = ['symbol', 'title', 'link', 'date']"
   ]
  },
  {
   "cell_type": "code",
   "execution_count": 14,
   "metadata": {},
   "outputs": [],
   "source": [
    "news.drop(columns='date', inplace=True)"
   ]
  },
  {
   "cell_type": "code",
   "execution_count": 22,
   "metadata": {},
   "outputs": [],
   "source": [
    "news.iloc[0]['link'] = 'https://kr.investing.comhttps://invst.ly/uob92'"
   ]
  },
  {
   "cell_type": "code",
   "execution_count": 38,
   "metadata": {},
   "outputs": [],
   "source": [
    "import re\n",
    "for i in range(len(news)):\n",
    "    try:\n",
    "        news.iloc[i]['link'] = re.sub('([\\S]+)https://', 'https://', news.iloc[i][\"link\"])\n",
    "    except :\n",
    "        pass"
   ]
  },
  {
   "cell_type": "code",
   "execution_count": 39,
   "metadata": {},
   "outputs": [
    {
     "data": {
      "text/html": [
       "<div>\n",
       "<style scoped>\n",
       "    .dataframe tbody tr th:only-of-type {\n",
       "        vertical-align: middle;\n",
       "    }\n",
       "\n",
       "    .dataframe tbody tr th {\n",
       "        vertical-align: top;\n",
       "    }\n",
       "\n",
       "    .dataframe thead th {\n",
       "        text-align: right;\n",
       "    }\n",
       "</style>\n",
       "<table border=\"1\" class=\"dataframe\">\n",
       "  <thead>\n",
       "    <tr style=\"text-align: right;\">\n",
       "      <th></th>\n",
       "      <th>symbol</th>\n",
       "      <th>title</th>\n",
       "      <th>link</th>\n",
       "    </tr>\n",
       "  </thead>\n",
       "  <tbody>\n",
       "    <tr>\n",
       "      <th>0</th>\n",
       "      <td>MMM</td>\n",
       "      <td>'신월여의지하도로' 대형차 잇단 끼임 사고…16일부터 과태료 부과</td>\n",
       "      <td>https://invst.ly/uob92</td>\n",
       "    </tr>\n",
       "    <tr>\n",
       "      <th>1</th>\n",
       "      <td>MMM</td>\n",
       "      <td>경제 캘린더 - 이번 주 주목해야 할 주요 이슈 5가지</td>\n",
       "      <td>https://kr.investing.com/news/economy/article-...</td>\n",
       "    </tr>\n",
       "    <tr>\n",
       "      <th>2</th>\n",
       "      <td>MMM</td>\n",
       "      <td>역사를 바꾼 30초·3m…인저뉴어티 비행 성공 막전막후</td>\n",
       "      <td>https://invst.ly/uithf</td>\n",
       "    </tr>\n",
       "    <tr>\n",
       "      <th>3</th>\n",
       "      <td>MMM</td>\n",
       "      <td>“3M-코카콜라 등 73개 기업서 청년인턴 뽑아요”</td>\n",
       "      <td>https://invst.ly/ud0-o</td>\n",
       "    </tr>\n",
       "    <tr>\n",
       "      <th>4</th>\n",
       "      <td>MMM</td>\n",
       "      <td>오늘의 주요 3가지 이슈: 애플, 페이스북, 연준 금리</td>\n",
       "      <td>https://kr.investing.com/news/stock-market-new...</td>\n",
       "    </tr>\n",
       "    <tr>\n",
       "      <th>...</th>\n",
       "      <td>...</td>\n",
       "      <td>...</td>\n",
       "      <td>...</td>\n",
       "    </tr>\n",
       "    <tr>\n",
       "      <th>1625</th>\n",
       "      <td>YUM</td>\n",
       "      <td>오늘 주목해야 할 시장의 주요 이슈 3가지</td>\n",
       "      <td>https://kr.investing.com/news/stock-market-new...</td>\n",
       "    </tr>\n",
       "    <tr>\n",
       "      <th>1626</th>\n",
       "      <td>ZBH</td>\n",
       "      <td>짐머 바이오메트 Q1 실적, 수익 예상치를 넘어</td>\n",
       "      <td>https://kr.investing.com/news/article-631149</td>\n",
       "    </tr>\n",
       "    <tr>\n",
       "      <th>1627</th>\n",
       "      <td>ZION</td>\n",
       "      <td>(BUZZ)美 은행주 하락...브렉시트에 美 금리인상 가능성 희박해져</td>\n",
       "      <td>https://kr.investing.com/news/economy-news/(bu...</td>\n",
       "    </tr>\n",
       "    <tr>\n",
       "      <th>1628</th>\n",
       "      <td>ZTS</td>\n",
       "      <td>미국서 오랑우탄도 백신 맞아…동물용 첫 접종</td>\n",
       "      <td>https://invst.ly/u1f4d</td>\n",
       "    </tr>\n",
       "    <tr>\n",
       "      <th>1629</th>\n",
       "      <td>ZTS</td>\n",
       "      <td>'리틀 버핏'도 예상 못한 폭풍성장…반려동물株 1위 '조에티스' [자이앤트레터]</td>\n",
       "      <td>https://invst.ly/tqeyg</td>\n",
       "    </tr>\n",
       "  </tbody>\n",
       "</table>\n",
       "<p>1630 rows × 3 columns</p>\n",
       "</div>"
      ],
      "text/plain": [
       "     symbol                                         title  \\\n",
       "0       MMM          '신월여의지하도로' 대형차 잇단 끼임 사고…16일부터 과태료 부과   \n",
       "1       MMM                경제 캘린더 - 이번 주 주목해야 할 주요 이슈 5가지   \n",
       "2       MMM                역사를 바꾼 30초·3m…인저뉴어티 비행 성공 막전막후   \n",
       "3       MMM                  “3M-코카콜라 등 73개 기업서 청년인턴 뽑아요”   \n",
       "4       MMM                오늘의 주요 3가지 이슈: 애플, 페이스북, 연준 금리   \n",
       "...     ...                                           ...   \n",
       "1625    YUM                       오늘 주목해야 할 시장의 주요 이슈 3가지   \n",
       "1626    ZBH                    짐머 바이오메트 Q1 실적, 수익 예상치를 넘어   \n",
       "1627   ZION        (BUZZ)美 은행주 하락...브렉시트에 美 금리인상 가능성 희박해져   \n",
       "1628    ZTS                      미국서 오랑우탄도 백신 맞아…동물용 첫 접종   \n",
       "1629    ZTS  '리틀 버핏'도 예상 못한 폭풍성장…반려동물株 1위 '조에티스' [자이앤트레터]   \n",
       "\n",
       "                                                   link  \n",
       "0                                https://invst.ly/uob92  \n",
       "1     https://kr.investing.com/news/economy/article-...  \n",
       "2                                https://invst.ly/uithf  \n",
       "3                                https://invst.ly/ud0-o  \n",
       "4     https://kr.investing.com/news/stock-market-new...  \n",
       "...                                                 ...  \n",
       "1625  https://kr.investing.com/news/stock-market-new...  \n",
       "1626       https://kr.investing.com/news/article-631149  \n",
       "1627  https://kr.investing.com/news/economy-news/(bu...  \n",
       "1628                             https://invst.ly/u1f4d  \n",
       "1629                             https://invst.ly/tqeyg  \n",
       "\n",
       "[1630 rows x 3 columns]"
      ]
     },
     "execution_count": 39,
     "metadata": {},
     "output_type": "execute_result"
    }
   ],
   "source": [
    "news"
   ]
  },
  {
   "cell_type": "code",
   "execution_count": 56,
   "metadata": {},
   "outputs": [
    {
     "data": {
      "text/plain": [
       "0"
      ]
     },
     "execution_count": 56,
     "metadata": {},
     "output_type": "execute_result"
    }
   ],
   "source": [
    "# # MYsqldb로 테이블 생성하기\n",
    "sql = '''CREATE TABLE News ( \n",
    "symbol varchar(5) NOT NULL, \n",
    "title varchar(200), \n",
    "link varchar(200)\n",
    ") \n",
    "''' \n",
    "# # cursor객체 생성후 쿼리 실행\n",
    "curs = db.cursor()\n",
    "curs.execute(sql)"
   ]
  },
  {
   "cell_type": "code",
   "execution_count": 44,
   "metadata": {
    "scrolled": true
   },
   "outputs": [
    {
     "data": {
      "text/html": [
       "<div>\n",
       "<style scoped>\n",
       "    .dataframe tbody tr th:only-of-type {\n",
       "        vertical-align: middle;\n",
       "    }\n",
       "\n",
       "    .dataframe tbody tr th {\n",
       "        vertical-align: top;\n",
       "    }\n",
       "\n",
       "    .dataframe thead th {\n",
       "        text-align: right;\n",
       "    }\n",
       "</style>\n",
       "<table border=\"1\" class=\"dataframe\">\n",
       "  <thead>\n",
       "    <tr style=\"text-align: right;\">\n",
       "      <th></th>\n",
       "      <th>symbol</th>\n",
       "      <th>update_date</th>\n",
       "      <th>querter_sales</th>\n",
       "      <th>profit</th>\n",
       "      <th>operating</th>\n",
       "      <th>real_profit</th>\n",
       "      <th>sales</th>\n",
       "      <th>shared</th>\n",
       "      <th>next_update_date</th>\n",
       "    </tr>\n",
       "  </thead>\n",
       "  <tbody>\n",
       "    <tr>\n",
       "      <th>180</th>\n",
       "      <td>AAPL</td>\n",
       "      <td>210327.0</td>\n",
       "      <td>89584.0</td>\n",
       "      <td>38079.0</td>\n",
       "      <td>27503.0</td>\n",
       "      <td>23630.0</td>\n",
       "      <td>3.254100e+11</td>\n",
       "      <td>1.668763e+10</td>\n",
       "      <td>210802.0</td>\n",
       "    </tr>\n",
       "    <tr>\n",
       "      <th>181</th>\n",
       "      <td>AAPL</td>\n",
       "      <td>201226.0</td>\n",
       "      <td>111439.0</td>\n",
       "      <td>44328.0</td>\n",
       "      <td>33534.0</td>\n",
       "      <td>28755.0</td>\n",
       "      <td>3.254100e+11</td>\n",
       "      <td>1.668763e+10</td>\n",
       "      <td>210802.0</td>\n",
       "    </tr>\n",
       "    <tr>\n",
       "      <th>182</th>\n",
       "      <td>AAPL</td>\n",
       "      <td>200926.0</td>\n",
       "      <td>64698.0</td>\n",
       "      <td>24689.0</td>\n",
       "      <td>14775.0</td>\n",
       "      <td>12673.0</td>\n",
       "      <td>3.254100e+11</td>\n",
       "      <td>1.668763e+10</td>\n",
       "      <td>210802.0</td>\n",
       "    </tr>\n",
       "    <tr>\n",
       "      <th>183</th>\n",
       "      <td>AAPL</td>\n",
       "      <td>200627.0</td>\n",
       "      <td>59685.0</td>\n",
       "      <td>22680.0</td>\n",
       "      <td>13091.0</td>\n",
       "      <td>11253.0</td>\n",
       "      <td>3.254100e+11</td>\n",
       "      <td>1.668763e+10</td>\n",
       "      <td>210802.0</td>\n",
       "    </tr>\n",
       "  </tbody>\n",
       "</table>\n",
       "</div>"
      ],
      "text/plain": [
       "    symbol  update_date  querter_sales   profit  operating  real_profit  \\\n",
       "180   AAPL     210327.0        89584.0  38079.0    27503.0      23630.0   \n",
       "181   AAPL     201226.0       111439.0  44328.0    33534.0      28755.0   \n",
       "182   AAPL     200926.0        64698.0  24689.0    14775.0      12673.0   \n",
       "183   AAPL     200627.0        59685.0  22680.0    13091.0      11253.0   \n",
       "\n",
       "            sales        shared  next_update_date  \n",
       "180  3.254100e+11  1.668763e+10          210802.0  \n",
       "181  3.254100e+11  1.668763e+10          210802.0  \n",
       "182  3.254100e+11  1.668763e+10          210802.0  \n",
       "183  3.254100e+11  1.668763e+10          210802.0  "
      ]
     },
     "execution_count": 44,
     "metadata": {},
     "output_type": "execute_result"
    }
   ],
   "source": [
    "investing_cr[investing_cr['symbol'] == 'AAPL']"
   ]
  },
  {
   "cell_type": "code",
   "execution_count": 46,
   "metadata": {},
   "outputs": [
    {
     "data": {
      "text/plain": [
       "0"
      ]
     },
     "execution_count": 46,
     "metadata": {},
     "output_type": "execute_result"
    }
   ],
   "source": [
    "# # MYsqldb로 테이블 생성하기\n",
    "sql = '''CREATE TABLE Company_low ( \n",
    "symbol varchar(5) NOT NULL PRIMARY KEY, \n",
    "update_date date, \n",
    "querter_sales int(6),\n",
    "profit int(5),\n",
    "operating int(5),\n",
    "real_profit int(5),\n",
    "sales int(11),\n",
    "share int(10),\n",
    "next_update_date date\n",
    ") \n",
    "''' \n",
    "# # cursor객체 생성후 쿼리 실행\n",
    "curs = db.cursor()\n",
    "curs.execute(sql)"
   ]
  },
  {
   "cell_type": "code",
   "execution_count": 43,
   "metadata": {},
   "outputs": [
    {
     "data": {
      "text/html": [
       "<div>\n",
       "<style scoped>\n",
       "    .dataframe tbody tr th:only-of-type {\n",
       "        vertical-align: middle;\n",
       "    }\n",
       "\n",
       "    .dataframe tbody tr th {\n",
       "        vertical-align: top;\n",
       "    }\n",
       "\n",
       "    .dataframe thead th {\n",
       "        text-align: right;\n",
       "    }\n",
       "</style>\n",
       "<table border=\"1\" class=\"dataframe\">\n",
       "  <thead>\n",
       "    <tr style=\"text-align: right;\">\n",
       "      <th></th>\n",
       "      <th>update_date</th>\n",
       "      <th>sales</th>\n",
       "      <th>profit</th>\n",
       "      <th>operating</th>\n",
       "      <th>real_profit</th>\n",
       "    </tr>\n",
       "    <tr>\n",
       "      <th>symbol</th>\n",
       "      <th></th>\n",
       "      <th></th>\n",
       "      <th></th>\n",
       "      <th></th>\n",
       "      <th></th>\n",
       "    </tr>\n",
       "  </thead>\n",
       "  <tbody>\n",
       "    <tr>\n",
       "      <th>MMM</th>\n",
       "      <td>210331.0</td>\n",
       "      <td>8851.0</td>\n",
       "      <td>4327.0</td>\n",
       "      <td>1983.0</td>\n",
       "      <td>1624.0</td>\n",
       "    </tr>\n",
       "    <tr>\n",
       "      <th>MMM</th>\n",
       "      <td>201231.0</td>\n",
       "      <td>8583.0</td>\n",
       "      <td>4246.0</td>\n",
       "      <td>1839.0</td>\n",
       "      <td>1389.0</td>\n",
       "    </tr>\n",
       "    <tr>\n",
       "      <th>MMM</th>\n",
       "      <td>200930.0</td>\n",
       "      <td>8350.0</td>\n",
       "      <td>4047.0</td>\n",
       "      <td>1909.0</td>\n",
       "      <td>1413.0</td>\n",
       "    </tr>\n",
       "    <tr>\n",
       "      <th>MMM</th>\n",
       "      <td>NaN</td>\n",
       "      <td>NaN</td>\n",
       "      <td>NaN</td>\n",
       "      <td>NaN</td>\n",
       "      <td>NaN</td>\n",
       "    </tr>\n",
       "    <tr>\n",
       "      <th>ABT</th>\n",
       "      <td>210331.0</td>\n",
       "      <td>10456.0</td>\n",
       "      <td>6056.0</td>\n",
       "      <td>2109.0</td>\n",
       "      <td>1793.0</td>\n",
       "    </tr>\n",
       "    <tr>\n",
       "      <th>...</th>\n",
       "      <td>...</td>\n",
       "      <td>...</td>\n",
       "      <td>...</td>\n",
       "      <td>...</td>\n",
       "      <td>...</td>\n",
       "    </tr>\n",
       "    <tr>\n",
       "      <th>ZION</th>\n",
       "      <td>200630.0</td>\n",
       "      <td>712.0</td>\n",
       "      <td>NaN</td>\n",
       "      <td>NaN</td>\n",
       "      <td>66.0</td>\n",
       "    </tr>\n",
       "    <tr>\n",
       "      <th>ZTS</th>\n",
       "      <td>210331.0</td>\n",
       "      <td>1871.0</td>\n",
       "      <td>1328.0</td>\n",
       "      <td>687.0</td>\n",
       "      <td>559.0</td>\n",
       "    </tr>\n",
       "    <tr>\n",
       "      <th>ZTS</th>\n",
       "      <td>201231.0</td>\n",
       "      <td>1807.0</td>\n",
       "      <td>1209.0</td>\n",
       "      <td>420.0</td>\n",
       "      <td>359.0</td>\n",
       "    </tr>\n",
       "    <tr>\n",
       "      <th>ZTS</th>\n",
       "      <td>200930.0</td>\n",
       "      <td>1786.0</td>\n",
       "      <td>1243.0</td>\n",
       "      <td>597.0</td>\n",
       "      <td>479.0</td>\n",
       "    </tr>\n",
       "    <tr>\n",
       "      <th>ZTS</th>\n",
       "      <td>200630.0</td>\n",
       "      <td>1548.0</td>\n",
       "      <td>1102.0</td>\n",
       "      <td>482.0</td>\n",
       "      <td>377.0</td>\n",
       "    </tr>\n",
       "  </tbody>\n",
       "</table>\n",
       "<p>2020 rows × 5 columns</p>\n",
       "</div>"
      ],
      "text/plain": [
       "        update_date    sales  profit  operating  real_profit\n",
       "symbol                                                      \n",
       "MMM        210331.0   8851.0  4327.0     1983.0       1624.0\n",
       "MMM        201231.0   8583.0  4246.0     1839.0       1389.0\n",
       "MMM        200930.0   8350.0  4047.0     1909.0       1413.0\n",
       "MMM             NaN      NaN     NaN        NaN          NaN\n",
       "ABT        210331.0  10456.0  6056.0     2109.0       1793.0\n",
       "...             ...      ...     ...        ...          ...\n",
       "ZION       200630.0    712.0     NaN        NaN         66.0\n",
       "ZTS        210331.0   1871.0  1328.0      687.0        559.0\n",
       "ZTS        201231.0   1807.0  1209.0      420.0        359.0\n",
       "ZTS        200930.0   1786.0  1243.0      597.0        479.0\n",
       "ZTS        200630.0   1548.0  1102.0      482.0        377.0\n",
       "\n",
       "[2020 rows x 5 columns]"
      ]
     },
     "execution_count": 43,
     "metadata": {},
     "output_type": "execute_result"
    }
   ],
   "source": [
    "investing_cr2"
   ]
  },
  {
   "cell_type": "code",
   "execution_count": 47,
   "metadata": {},
   "outputs": [],
   "source": [
    "#3. sqlalchemy 클라이언트 설정\n",
    "client = create_engine(f'mysql://{user.user}:{user.pw}@{user.host}/{user.db}?charset=utf8',encoding=\"utf-8\")\n",
    "conn = client.connect()"
   ]
  },
  {
   "cell_type": "code",
   "execution_count": 94,
   "metadata": {
    "scrolled": true
   },
   "outputs": [],
   "source": [
    "#4. csv파일 db에 담기\n",
    "main.to_sql(name='main',con=client,if_exists='append',index=False)\n",
    "conn.close()"
   ]
  },
  {
   "cell_type": "code",
   "execution_count": 57,
   "metadata": {},
   "outputs": [],
   "source": [
    "news.to_sql(name='News',con=client,if_exists='append',index=False)\n",
    "investing_cr.to_sql(name='Company_low',con=client,if_exists='append',index=False)"
   ]
  },
  {
   "cell_type": "code",
   "execution_count": 55,
   "metadata": {},
   "outputs": [
    {
     "data": {
      "text/plain": [
       "64"
      ]
     },
     "execution_count": 55,
     "metadata": {},
     "output_type": "execute_result"
    }
   ],
   "source": [
    "len(news['link'][139])"
   ]
  },
  {
   "cell_type": "code",
   "execution_count": null,
   "metadata": {},
   "outputs": [],
   "source": []
  }
 ],
 "metadata": {
  "kernelspec": {
   "display_name": "Python 3",
   "language": "python",
   "name": "python3"
  },
  "language_info": {
   "codemirror_mode": {
    "name": "ipython",
    "version": 3
   },
   "file_extension": ".py",
   "mimetype": "text/x-python",
   "name": "python",
   "nbconvert_exporter": "python",
   "pygments_lexer": "ipython3",
   "version": "3.8.5"
  },
  "toc": {
   "base_numbering": 1,
   "nav_menu": {},
   "number_sections": true,
   "sideBar": true,
   "skip_h1_title": false,
   "title_cell": "Table of Contents",
   "title_sidebar": "Contents",
   "toc_cell": false,
   "toc_position": {},
   "toc_section_display": true,
   "toc_window_display": false
  }
 },
 "nbformat": 4,
 "nbformat_minor": 5
}
